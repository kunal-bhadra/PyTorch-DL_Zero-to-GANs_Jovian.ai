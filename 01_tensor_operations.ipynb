{
  "cells": [
    {
      "cell_type": "code",
      "execution_count": 1,
      "metadata": {
        "colab": {
          "base_uri": "https://localhost:8080/"
        },
        "id": "F1p7o5Yxd3j2",
        "outputId": "75c04ea3-aae1-4e32-fead-a8a23af3dd0f"
      },
      "outputs": [
        {
          "output_type": "stream",
          "name": "stdout",
          "text": [
            "\u001b[?25l\r\u001b[K     |████▊                           | 10 kB 18.1 MB/s eta 0:00:01\r\u001b[K     |█████████▌                      | 20 kB 14.7 MB/s eta 0:00:01\r\u001b[K     |██████████████▎                 | 30 kB 10.3 MB/s eta 0:00:01\r\u001b[K     |███████████████████             | 40 kB 8.8 MB/s eta 0:00:01\r\u001b[K     |███████████████████████▉        | 51 kB 4.6 MB/s eta 0:00:01\r\u001b[K     |████████████████████████████▋   | 61 kB 5.3 MB/s eta 0:00:01\r\u001b[K     |████████████████████████████████| 68 kB 2.8 MB/s \n",
            "\u001b[?25h  Building wheel for uuid (setup.py) ... \u001b[?25l\u001b[?25hdone\n"
          ]
        }
      ],
      "source": [
        "# Jovian Commit Essentials\n",
        "# Please retain and execute this cell without modifying the contents for `jovian.commit` to work\n",
        "!pip install jovian --upgrade -q\n",
        "import jovian\n",
        "jovian.set_project('01-tensor-operations')\n",
        "jovian.set_colab_id('1_gvWugFYuheaUvQsi-nSb4GPV8YB96y0')"
      ]
    },
    {
      "cell_type": "markdown",
      "metadata": {
        "id": "0kiB62lhd3j8"
      },
      "source": [
        "> ### Assignment Instructions (delete this cell before submission)\n",
        "> \n",
        "> The objective of this assignment is to develop a solid understanding of PyTorch tensors. In this assignment you will:\n",
        ">\n",
        "> 1. Pick 5 interesting functions related to PyTorch tensors by [reading the documentation](https://pytorch.org/docs/stable/torch.html), \n",
        "> 2. Edit this starter template notebook to illustrate their usage and publish your notebook to Jovian using `jovian.commit`. Make sure to add proper explanations too, not just code.\n",
        "> 3. Submit the link to your published notebook on Jovian here: https://jovian.ai/learn/deep-learning-with-pytorch-zero-to-gans/assignment/assignment-1-all-about-torch-tensor .\n",
        "> 4. (Optional) Write a blog post on [Medium](https://medium.com) to accompany and showcase your Jupyter notebook. [Embed cells from your notebook](https://medium.com/@aakashns/share-and-embed-jupyter-notebooks-online-with-jovian-ml-df709a03064e) wherever necessary.\n",
        "> 5. (Optional) [Share your work](https://jovian.ai/forum/t/pytorch-functions-and-tensor-operations/13790) with the community and exchange feedback with other participants\n",
        ">\n",
        ">\n",
        "> The recommended way to run this notebook is to click the \"Run\" button at the top of this page, and select \"Run on Colab\". Run `jovian.commit` regularly to save your progress.\n",
        "> \n",
        "> Try to give your notebook an interesting title e.g. \"All about PyTorch tensor operations\", \"5 PyTorch functions you didn't know you needed\", \"A beginner's guide to Autograd in PyToch\", \"Interesting ways to create PyTorch tensors\", \"Trigonometic functions in PyTorch\", \"How to use PyTorch tensors for Linear Algebra\" etc.\n",
        ">\n",
        "> **IMPORTANT NOTE**: Make sure to submit a Jovian notebook link e.g. https://jovian.ai/aakashns/01-tensor-operations . Colab links will not be accepted.\n",
        ">\n",
        "> Remove this cell containing instructions before making a submission or sharing your notebook, to make it more presentable.\n",
        ">\n",
        "\n"
      ]
    },
    {
      "cell_type": "markdown",
      "metadata": {
        "id": "jd16hD5kd3j_"
      },
      "source": [
        "# Exploring PyTorch Operations\n",
        "\n",
        "PyTorch is one the most popular library used for Deep Learning applications and here are some of its operations:\n",
        "\n",
        "- `torch.linspace` - Creates a one-dimensional tensor of size steps whose values are evenly spaced from start to end, inclusive.\n",
        "- `torch.eye` - Returns a 2-D tensor with ones on the diagonal and zeros elsewhere.\n",
        "- `torch.full` - Creates a tensor of size `size` filled with fill_value. The tensor’s dtype is inferred from fill_value.\n",
        "- `torch.unbind` - Remove a tensor dimension\n",
        "- `torch.clone` - Returns a copy of the tensor with the same size and data type."
      ]
    },
    {
      "cell_type": "code",
      "execution_count": 2,
      "metadata": {
        "id": "Rh1R129Md3kB"
      },
      "outputs": [],
      "source": [
        "# Import torch and other required modules\n",
        "import torch"
      ]
    },
    {
      "cell_type": "markdown",
      "metadata": {
        "id": "iNwYnz4pd3kC"
      },
      "source": [
        "## Function 1 - torch.linspace\n",
        "\n",
        "Creates a one-dimensional tensor of size steps whose values are evenly spaced from start to end, inclusive."
      ]
    },
    {
      "cell_type": "code",
      "execution_count": 4,
      "metadata": {
        "colab": {
          "base_uri": "https://localhost:8080/"
        },
        "id": "Rf1o2DMrd3kC",
        "outputId": "2ae3bfce-5833-43ca-ee40-8694120a5d2c"
      },
      "outputs": [
        {
          "output_type": "execute_result",
          "data": {
            "text/plain": [
              "tensor([ 2.,  4.,  6.,  8., 10., 12.])"
            ]
          },
          "metadata": {},
          "execution_count": 4
        }
      ],
      "source": [
        "# Example 1 - working\n",
        "torch.linspace(2, 12, steps=6)"
      ]
    },
    {
      "cell_type": "markdown",
      "metadata": {
        "id": "A0JKJb-6d3kE"
      },
      "source": [
        "Here, we provide two integers. Start and end are the upper and lower limits, both inclusive and the `steps` define how many evenly spaced elements will be there in our tensor."
      ]
    },
    {
      "cell_type": "code",
      "execution_count": 5,
      "metadata": {
        "colab": {
          "base_uri": "https://localhost:8080/"
        },
        "id": "95ty_mkKd3kF",
        "outputId": "882ae48e-01b4-42b4-9f3a-c15ce29efa7a"
      },
      "outputs": [
        {
          "output_type": "execute_result",
          "data": {
            "text/plain": [
              "tensor([-100.0000,  -97.9798,  -95.9596,  -93.9394,  -91.9192,  -89.8990,\n",
              "         -87.8788,  -85.8586,  -83.8384,  -81.8182,  -79.7980,  -77.7778,\n",
              "         -75.7576,  -73.7374,  -71.7172,  -69.6970,  -67.6768,  -65.6566,\n",
              "         -63.6364,  -61.6162,  -59.5960,  -57.5758,  -55.5556,  -53.5354,\n",
              "         -51.5152,  -49.4949,  -47.4747,  -45.4545,  -43.4343,  -41.4141,\n",
              "         -39.3939,  -37.3737,  -35.3535,  -33.3333,  -31.3131,  -29.2929,\n",
              "         -27.2727,  -25.2525,  -23.2323,  -21.2121,  -19.1919,  -17.1717,\n",
              "         -15.1515,  -13.1313,  -11.1111,   -9.0909,   -7.0707,   -5.0505,\n",
              "          -3.0303,   -1.0101,    1.0101,    3.0303,    5.0505,    7.0707,\n",
              "           9.0909,   11.1111,   13.1313,   15.1515,   17.1717,   19.1919,\n",
              "          21.2121,   23.2323,   25.2525,   27.2727,   29.2929,   31.3131,\n",
              "          33.3333,   35.3535,   37.3737,   39.3939,   41.4141,   43.4343,\n",
              "          45.4545,   47.4748,   49.4950,   51.5152,   53.5354,   55.5556,\n",
              "          57.5758,   59.5960,   61.6162,   63.6364,   65.6566,   67.6768,\n",
              "          69.6970,   71.7172,   73.7374,   75.7576,   77.7778,   79.7980,\n",
              "          81.8182,   83.8384,   85.8586,   87.8788,   89.8990,   91.9192,\n",
              "          93.9394,   95.9596,   97.9798,  100.0000])"
            ]
          },
          "metadata": {},
          "execution_count": 5
        }
      ],
      "source": [
        "# Example 2 - working\n",
        "torch.linspace(-100, 100, steps = 100)"
      ]
    },
    {
      "cell_type": "markdown",
      "metadata": {
        "id": "lzRqmVZAd3kF"
      },
      "source": [
        "The range can be from negative numbers as well."
      ]
    },
    {
      "cell_type": "code",
      "execution_count": 8,
      "metadata": {
        "colab": {
          "base_uri": "https://localhost:8080/",
          "height": 183
        },
        "id": "B_LYrEIgd3kG",
        "outputId": "d333c521-4dd1-4e70-e4af-98481c8672bd"
      },
      "outputs": [
        {
          "output_type": "error",
          "ename": "TypeError",
          "evalue": "ignored",
          "traceback": [
            "\u001b[0;31m---------------------------------------------------------------------------\u001b[0m",
            "\u001b[0;31mTypeError\u001b[0m                                 Traceback (most recent call last)",
            "\u001b[0;32m<ipython-input-8-1bcc3780a265>\u001b[0m in \u001b[0;36m<module>\u001b[0;34m()\u001b[0m\n\u001b[1;32m      1\u001b[0m \u001b[0;31m# Example 3 - breaking (to illustrate when it breaks)\u001b[0m\u001b[0;34m\u001b[0m\u001b[0;34m\u001b[0m\u001b[0;34m\u001b[0m\u001b[0m\n\u001b[0;32m----> 2\u001b[0;31m \u001b[0mtorch\u001b[0m\u001b[0;34m.\u001b[0m\u001b[0mlinspace\u001b[0m\u001b[0;34m(\u001b[0m\u001b[0;36m2\u001b[0m\u001b[0;34m,\u001b[0m \u001b[0msteps\u001b[0m \u001b[0;34m=\u001b[0m \u001b[0;36m1000\u001b[0m\u001b[0;34m)\u001b[0m\u001b[0;34m\u001b[0m\u001b[0;34m\u001b[0m\u001b[0m\n\u001b[0m",
            "\u001b[0;31mTypeError\u001b[0m: linspace() missing 1 required positional arguments: \"end\""
          ]
        }
      ],
      "source": [
        "# Example 3 - breaking (to illustrate when it breaks)\n",
        "torch.linspace(2, steps = 1000)"
      ]
    },
    {
      "cell_type": "markdown",
      "metadata": {
        "id": "_-jnv2RZd3kH"
      },
      "source": [
        "All three parameters are needed for this to function properly."
      ]
    },
    {
      "cell_type": "markdown",
      "metadata": {
        "id": "KosgexUXd3kH"
      },
      "source": [
        "We can use this function to generate a tensor of random numbers as per our specifications."
      ]
    },
    {
      "cell_type": "markdown",
      "metadata": {
        "id": "dwKeZfc_d3kH"
      },
      "source": [
        "Let's save our work using Jovian before continuing."
      ]
    },
    {
      "cell_type": "code",
      "execution_count": 9,
      "metadata": {
        "id": "pphMeQSWd3kH"
      },
      "outputs": [],
      "source": [
        "!pip install jovian --upgrade --quiet"
      ]
    },
    {
      "cell_type": "code",
      "execution_count": 10,
      "metadata": {
        "id": "ATVvxJJTd3kI"
      },
      "outputs": [],
      "source": [
        "import jovian"
      ]
    },
    {
      "cell_type": "code",
      "execution_count": 11,
      "metadata": {
        "colab": {
          "base_uri": "https://localhost:8080/",
          "height": 122
        },
        "id": "medenDLrd3kI",
        "outputId": "54455b57-a692-4748-be99-8775fe386df8"
      },
      "outputs": [
        {
          "output_type": "stream",
          "name": "stdout",
          "text": [
            "[jovian] Detected Colab notebook...\u001b[0m\n",
            "[jovian] Please enter your API key ( from https://jovian.ai/ ):\u001b[0m\n",
            "API KEY: ··········\n",
            "[jovian] Uploading colab notebook to Jovian...\u001b[0m\n",
            "Committed successfully! https://jovian.ai/rick101001/01-tensor-operations\n"
          ]
        },
        {
          "output_type": "execute_result",
          "data": {
            "application/vnd.google.colaboratory.intrinsic+json": {
              "type": "string"
            },
            "text/plain": [
              "'https://jovian.ai/rick101001/01-tensor-operations'"
            ]
          },
          "metadata": {},
          "execution_count": 11
        }
      ],
      "source": [
        "jovian.commit(project='01-tensor-operations')"
      ]
    },
    {
      "cell_type": "markdown",
      "metadata": {
        "id": "BguRfS3bd3kI"
      },
      "source": [
        "## Function 2 - torch.eye\n",
        "\n",
        "Returns a 2-D tensor with ones on the diagonal and zeros elsewhere."
      ]
    },
    {
      "cell_type": "code",
      "execution_count": 12,
      "metadata": {
        "colab": {
          "base_uri": "https://localhost:8080/"
        },
        "id": "mvLlTIoTd3kJ",
        "outputId": "42f39ccf-4152-4f03-f14b-f9eb048e8a19"
      },
      "outputs": [
        {
          "output_type": "execute_result",
          "data": {
            "text/plain": [
              "tensor([[1., 0., 0., 0., 0.],\n",
              "        [0., 1., 0., 0., 0.],\n",
              "        [0., 0., 1., 0., 0.],\n",
              "        [0., 0., 0., 1., 0.],\n",
              "        [0., 0., 0., 0., 1.]])"
            ]
          },
          "metadata": {},
          "execution_count": 12
        }
      ],
      "source": [
        "# Example 1 - working\n",
        "torch.eye(5)"
      ]
    },
    {
      "cell_type": "markdown",
      "metadata": {
        "id": "nAdK8WCsd3kJ"
      },
      "source": [
        "Returns a 5x5 matrix by row without the column parameter, having 1s on the diagonal and 0s elsewhere."
      ]
    },
    {
      "cell_type": "code",
      "execution_count": 13,
      "metadata": {
        "colab": {
          "base_uri": "https://localhost:8080/"
        },
        "id": "24IJW_TDd3kJ",
        "outputId": "a6a0c6cb-d6ee-4d6f-b1bb-61fa80340522"
      },
      "outputs": [
        {
          "output_type": "execute_result",
          "data": {
            "text/plain": [
              "tensor([[1., 0., 0., 0., 0., 0., 0., 0., 0.],\n",
              "        [0., 1., 0., 0., 0., 0., 0., 0., 0.],\n",
              "        [0., 0., 1., 0., 0., 0., 0., 0., 0.],\n",
              "        [0., 0., 0., 1., 0., 0., 0., 0., 0.],\n",
              "        [0., 0., 0., 0., 1., 0., 0., 0., 0.]])"
            ]
          },
          "metadata": {},
          "execution_count": 13
        }
      ],
      "source": [
        "# Example 2 - working\n",
        "torch.eye(5, 9)"
      ]
    },
    {
      "cell_type": "markdown",
      "metadata": {
        "id": "HkiBAYg7d3kK"
      },
      "source": [
        "The matrix does not have to be symmetric, can be according to any dimension we provide."
      ]
    },
    {
      "cell_type": "code",
      "execution_count": 14,
      "metadata": {
        "colab": {
          "base_uri": "https://localhost:8080/",
          "height": 183
        },
        "id": "nXEmDNx6d3kK",
        "outputId": "343457c8-7e28-4ed9-98dd-8afdcbe7fa5a"
      },
      "outputs": [
        {
          "output_type": "error",
          "ename": "RuntimeError",
          "evalue": "ignored",
          "traceback": [
            "\u001b[0;31m---------------------------------------------------------------------------\u001b[0m",
            "\u001b[0;31mRuntimeError\u001b[0m                              Traceback (most recent call last)",
            "\u001b[0;32m<ipython-input-14-d7ab4688e097>\u001b[0m in \u001b[0;36m<module>\u001b[0;34m()\u001b[0m\n\u001b[1;32m      1\u001b[0m \u001b[0;31m# Example 3 - breaking (to illustrate when it breaks)\u001b[0m\u001b[0;34m\u001b[0m\u001b[0;34m\u001b[0m\u001b[0;34m\u001b[0m\u001b[0m\n\u001b[0;32m----> 2\u001b[0;31m \u001b[0mtorch\u001b[0m\u001b[0;34m.\u001b[0m\u001b[0meye\u001b[0m\u001b[0;34m(\u001b[0m\u001b[0;34m-\u001b[0m\u001b[0;36m1\u001b[0m\u001b[0;34m,\u001b[0m \u001b[0;34m-\u001b[0m\u001b[0;36m2\u001b[0m\u001b[0;34m)\u001b[0m\u001b[0;34m\u001b[0m\u001b[0;34m\u001b[0m\u001b[0m\n\u001b[0m",
            "\u001b[0;31mRuntimeError\u001b[0m: n must be greater or equal to 0, got -1"
          ]
        }
      ],
      "source": [
        "# Example 3 - breaking (to illustrate when it breaks)\n",
        "torch.eye(-1, -2)"
      ]
    },
    {
      "cell_type": "markdown",
      "metadata": {
        "id": "ul4M6AGjd3kK"
      },
      "source": [
        "Dimensions have to be >= 0 for the matrix to be generated."
      ]
    },
    {
      "cell_type": "markdown",
      "metadata": {
        "id": "X632neCbd3kK"
      },
      "source": [
        "We can use this function in matrix operations."
      ]
    },
    {
      "cell_type": "code",
      "execution_count": 15,
      "metadata": {
        "colab": {
          "base_uri": "https://localhost:8080/",
          "height": 88
        },
        "id": "p9J6tiQzd3kK",
        "outputId": "0c2e1f18-add7-4b71-96b6-95ab3e24738c"
      },
      "outputs": [
        {
          "output_type": "stream",
          "name": "stdout",
          "text": [
            "[jovian] Detected Colab notebook...\u001b[0m\n",
            "[jovian] Uploading colab notebook to Jovian...\u001b[0m\n",
            "Committed successfully! https://jovian.ai/rick101001/01-tensor-operations\n"
          ]
        },
        {
          "output_type": "execute_result",
          "data": {
            "application/vnd.google.colaboratory.intrinsic+json": {
              "type": "string"
            },
            "text/plain": [
              "'https://jovian.ai/rick101001/01-tensor-operations'"
            ]
          },
          "metadata": {},
          "execution_count": 15
        }
      ],
      "source": [
        "jovian.commit(project='01-tensor-operations')"
      ]
    },
    {
      "cell_type": "markdown",
      "metadata": {
        "id": "DkuSv4otd3kL"
      },
      "source": [
        "## Function 3 - torch.full\n",
        "\n",
        "Creates a tensor of size size filled with fill_value. The tensor’s dtype is inferred from fill_value."
      ]
    },
    {
      "cell_type": "code",
      "execution_count": 16,
      "metadata": {
        "colab": {
          "base_uri": "https://localhost:8080/"
        },
        "id": "pQbKxB0Nd3kL",
        "outputId": "f7a81c8e-bf6f-4c6c-8eff-dd3469a86aa1"
      },
      "outputs": [
        {
          "output_type": "execute_result",
          "data": {
            "text/plain": [
              "tensor([[-5, -5, -5],\n",
              "        [-5, -5, -5]])"
            ]
          },
          "metadata": {},
          "execution_count": 16
        }
      ],
      "source": [
        "# Example 1 - working\n",
        "torch.full((2, 3), -5)"
      ]
    },
    {
      "cell_type": "markdown",
      "metadata": {
        "id": "GXQrefZSd3kL"
      },
      "source": [
        "Generates a matrix of 2x3 with -5 value."
      ]
    },
    {
      "cell_type": "code",
      "execution_count": 20,
      "metadata": {
        "colab": {
          "base_uri": "https://localhost:8080/"
        },
        "id": "K8YEoonVd3kL",
        "outputId": "c0b3e69c-0c74-4e87-de5f-97a7c534ff69"
      },
      "outputs": [
        {
          "output_type": "execute_result",
          "data": {
            "text/plain": [
              "tensor([[[-5, -5, -5, -5],\n",
              "         [-5, -5, -5, -5],\n",
              "         [-5, -5, -5, -5]],\n",
              "\n",
              "        [[-5, -5, -5, -5],\n",
              "         [-5, -5, -5, -5],\n",
              "         [-5, -5, -5, -5]]])"
            ]
          },
          "metadata": {},
          "execution_count": 20
        }
      ],
      "source": [
        "# Example 2 - working\n",
        "torch.full((2, 3, 4), -5)"
      ]
    },
    {
      "cell_type": "markdown",
      "metadata": {
        "id": "b9A7zSNPd3kM"
      },
      "source": [
        "Tensors of ANY dimensions >= 2 can be generated with this."
      ]
    },
    {
      "cell_type": "code",
      "execution_count": 21,
      "metadata": {
        "colab": {
          "base_uri": "https://localhost:8080/",
          "height": 252
        },
        "id": "j4QQstgQd3kM",
        "outputId": "879a7ed7-11ee-428b-bc14-9bd8b82b3d3d"
      },
      "outputs": [
        {
          "output_type": "error",
          "ename": "TypeError",
          "evalue": "ignored",
          "traceback": [
            "\u001b[0;31m---------------------------------------------------------------------------\u001b[0m",
            "\u001b[0;31mTypeError\u001b[0m                                 Traceback (most recent call last)",
            "\u001b[0;32m<ipython-input-21-26c77c7d037d>\u001b[0m in \u001b[0;36m<module>\u001b[0;34m()\u001b[0m\n\u001b[1;32m      1\u001b[0m \u001b[0;31m# Example 3 - breaking (to illustrate when it breaks)\u001b[0m\u001b[0;34m\u001b[0m\u001b[0;34m\u001b[0m\u001b[0;34m\u001b[0m\u001b[0m\n\u001b[0;32m----> 2\u001b[0;31m \u001b[0mtorch\u001b[0m\u001b[0;34m.\u001b[0m\u001b[0mfull\u001b[0m\u001b[0;34m(\u001b[0m\u001b[0;34m(\u001b[0m\u001b[0;36m2\u001b[0m\u001b[0;34m)\u001b[0m\u001b[0;34m,\u001b[0m \u001b[0;36m4\u001b[0m\u001b[0;34m)\u001b[0m\u001b[0;34m\u001b[0m\u001b[0;34m\u001b[0m\u001b[0m\n\u001b[0m",
            "\u001b[0;31mTypeError\u001b[0m: full() received an invalid combination of arguments - got (int, int), but expected one of:\n * (tuple of ints size, Number fill_value, *, Tensor out, torch.dtype dtype, torch.layout layout, torch.device device, bool pin_memory, bool requires_grad)\n * (tuple of ints size, Number fill_value, *, tuple of names names, torch.dtype dtype, torch.layout layout, torch.device device, bool pin_memory, bool requires_grad)\n"
          ]
        }
      ],
      "source": [
        "# Example 3 - breaking (to illustrate when it breaks)\n",
        "torch.full((2), 4)"
      ]
    },
    {
      "cell_type": "markdown",
      "metadata": {
        "id": "APc_825Ud3kM"
      },
      "source": [
        "1D tensors can't be generated."
      ]
    },
    {
      "cell_type": "markdown",
      "metadata": {
        "id": "CYbSCzLId3kM"
      },
      "source": [
        "This function can also be used to generate dummy tensors for testing functions."
      ]
    },
    {
      "cell_type": "code",
      "execution_count": 22,
      "metadata": {
        "colab": {
          "base_uri": "https://localhost:8080/",
          "height": 88
        },
        "id": "HuYYH4Wld3kM",
        "outputId": "9d933e8d-7da3-4130-fe63-dde93190f48c"
      },
      "outputs": [
        {
          "output_type": "stream",
          "name": "stdout",
          "text": [
            "[jovian] Detected Colab notebook...\u001b[0m\n",
            "[jovian] Uploading colab notebook to Jovian...\u001b[0m\n",
            "Committed successfully! https://jovian.ai/rick101001/01-tensor-operations\n"
          ]
        },
        {
          "output_type": "execute_result",
          "data": {
            "application/vnd.google.colaboratory.intrinsic+json": {
              "type": "string"
            },
            "text/plain": [
              "'https://jovian.ai/rick101001/01-tensor-operations'"
            ]
          },
          "metadata": {},
          "execution_count": 22
        }
      ],
      "source": [
        "jovian.commit(project='01-tensor-operations')"
      ]
    },
    {
      "cell_type": "markdown",
      "metadata": {
        "id": "LaPZ0h9id3kN"
      },
      "source": [
        "## Function 4 - torch.unbind\n",
        "\n",
        "Removes a tensor dimension.\n",
        "\n",
        "Returns a tuple of all slices along a given dimension, already without it."
      ]
    },
    {
      "cell_type": "code",
      "execution_count": 23,
      "metadata": {
        "colab": {
          "base_uri": "https://localhost:8080/"
        },
        "id": "k-F4Co_8d3kN",
        "outputId": "773bf26d-870c-4d8d-9442-d001ec817532"
      },
      "outputs": [
        {
          "output_type": "execute_result",
          "data": {
            "text/plain": [
              "(tensor([2, 3]), tensor([4, 5]), tensor([6, 7]))"
            ]
          },
          "metadata": {},
          "execution_count": 23
        }
      ],
      "source": [
        "# Example 1 - working\n",
        "torch.unbind(torch.tensor([[2, 3],\n",
        "                           [4, 5],\n",
        "                           [6,7]]))"
      ]
    },
    {
      "cell_type": "markdown",
      "metadata": {
        "id": "9srBvyaxd3kO"
      },
      "source": [
        "Returned the tuple of separated tensors."
      ]
    },
    {
      "cell_type": "code",
      "execution_count": 24,
      "metadata": {
        "colab": {
          "base_uri": "https://localhost:8080/"
        },
        "id": "MRjkkkYnd3kO",
        "outputId": "9d07d33f-2eac-495a-bb93-936e673e5adf"
      },
      "outputs": [
        {
          "output_type": "execute_result",
          "data": {
            "text/plain": [
              "(tensor([[2, 3],\n",
              "         [4, 5],\n",
              "         [6, 7]]),)"
            ]
          },
          "metadata": {},
          "execution_count": 24
        }
      ],
      "source": [
        "# Example 2 - working\n",
        "torch.unbind(torch.tensor([[[2, 3],\n",
        "                           [4, 5],\n",
        "                           [6,7]]]))"
      ]
    },
    {
      "cell_type": "markdown",
      "metadata": {
        "id": "qeckUw_Rd3kO"
      },
      "source": [
        ".unbind() only goes one level deep."
      ]
    },
    {
      "cell_type": "code",
      "execution_count": 30,
      "metadata": {
        "colab": {
          "base_uri": "https://localhost:8080/",
          "height": 200
        },
        "id": "Hh-_fwXtd3kO",
        "outputId": "d502828b-be66-41cf-e6c2-9e39bce2019f"
      },
      "outputs": [
        {
          "output_type": "error",
          "ename": "TypeError",
          "evalue": "ignored",
          "traceback": [
            "\u001b[0;31m---------------------------------------------------------------------------\u001b[0m",
            "\u001b[0;31mTypeError\u001b[0m                                 Traceback (most recent call last)",
            "\u001b[0;32m<ipython-input-30-c4e453306925>\u001b[0m in \u001b[0;36m<module>\u001b[0;34m()\u001b[0m\n\u001b[1;32m      2\u001b[0m torch.unbind(torch.tensor([2, 3],\n\u001b[1;32m      3\u001b[0m                            \u001b[0;34m[\u001b[0m\u001b[0;36m4\u001b[0m\u001b[0;34m,\u001b[0m \u001b[0;36m5\u001b[0m\u001b[0;34m]\u001b[0m\u001b[0;34m,\u001b[0m\u001b[0;34m\u001b[0m\u001b[0;34m\u001b[0m\u001b[0m\n\u001b[0;32m----> 4\u001b[0;31m                            [6,7]))\n\u001b[0m",
            "\u001b[0;31mTypeError\u001b[0m: tensor() takes 1 positional argument but 3 were given"
          ]
        }
      ],
      "source": [
        "# Example 3 - breaking\n",
        "torch.unbind(torch.tensor([2, 3],\n",
        "                           [4, 5],\n",
        "                           [6,7]))"
      ]
    },
    {
      "cell_type": "markdown",
      "metadata": {
        "id": "UZWeniBcd3kO"
      },
      "source": [
        "Needs a valid tensor for it to work"
      ]
    },
    {
      "cell_type": "markdown",
      "metadata": {
        "id": "fAbpp3Zqd3kP"
      },
      "source": [
        "This can be used when dealing with high dimensional matrices in NNs to flatten them out later."
      ]
    },
    {
      "cell_type": "code",
      "execution_count": 31,
      "metadata": {
        "colab": {
          "base_uri": "https://localhost:8080/",
          "height": 88
        },
        "id": "SKpBwkojd3kP",
        "outputId": "f642fd6c-4e58-491e-c5b7-084a95054096"
      },
      "outputs": [
        {
          "output_type": "stream",
          "name": "stdout",
          "text": [
            "[jovian] Detected Colab notebook...\u001b[0m\n",
            "[jovian] Uploading colab notebook to Jovian...\u001b[0m\n",
            "Committed successfully! https://jovian.ai/rick101001/01-tensor-operations\n"
          ]
        },
        {
          "output_type": "execute_result",
          "data": {
            "application/vnd.google.colaboratory.intrinsic+json": {
              "type": "string"
            },
            "text/plain": [
              "'https://jovian.ai/rick101001/01-tensor-operations'"
            ]
          },
          "metadata": {},
          "execution_count": 31
        }
      ],
      "source": [
        "jovian.commit(project='01-tensor-operations')"
      ]
    },
    {
      "cell_type": "markdown",
      "metadata": {
        "id": "RYdjSfcEd3kQ"
      },
      "source": [
        "## Function 5 - torch.clone\n",
        "\n",
        "This returns a copy of the tensor with the same size and data type."
      ]
    },
    {
      "cell_type": "code",
      "execution_count": 33,
      "metadata": {
        "colab": {
          "base_uri": "https://localhost:8080/"
        },
        "id": "IIcm5Z3bd3kR",
        "outputId": "f690fe68-5384-4dae-90b4-4034d1d16a83"
      },
      "outputs": [
        {
          "output_type": "execute_result",
          "data": {
            "text/plain": [
              "tensor([[2, 3],\n",
              "        [4, 5],\n",
              "        [6, 7]])"
            ]
          },
          "metadata": {},
          "execution_count": 33
        }
      ],
      "source": [
        "# Example 1 - working\n",
        "a = torch.tensor([[2, 3],\n",
        "              [4, 5], \n",
        "              [6, 7]])\n",
        "b = a.clone()\n",
        "a[1,0] = 9\n",
        "\n",
        "b"
      ]
    },
    {
      "cell_type": "markdown",
      "metadata": {
        "id": "RKzmnSnRd3kR"
      },
      "source": [
        "Deep clones a tensor to avoid the problem of two tensors pointing to the same location when duplicated with x=y operation."
      ]
    },
    {
      "cell_type": "code",
      "execution_count": 35,
      "metadata": {
        "colab": {
          "base_uri": "https://localhost:8080/"
        },
        "id": "E7hzEpsSd3kR",
        "outputId": "dc8ea039-4f98-46f9-dd79-732e642d5721"
      },
      "outputs": [
        {
          "output_type": "execute_result",
          "data": {
            "text/plain": [
              "tensor([[[2, 3],\n",
              "         [4, 5],\n",
              "         [6, 7]]])"
            ]
          },
          "metadata": {},
          "execution_count": 35
        }
      ],
      "source": [
        "# Example 2 - working\n",
        "a = torch.tensor([[[2, 3],\n",
        "              [4, 5], \n",
        "              [6, 7]]])\n",
        "b = a.clone()\n",
        "a[0,1,0] = 9\n",
        "\n",
        "b"
      ]
    },
    {
      "cell_type": "markdown",
      "metadata": {
        "id": "A5-CCVigd3kR"
      },
      "source": [
        "Works with high dimensional tensors too."
      ]
    },
    {
      "cell_type": "code",
      "execution_count": 36,
      "metadata": {
        "colab": {
          "base_uri": "https://localhost:8080/",
          "height": 235
        },
        "id": "KPrpHNPtd3kS",
        "outputId": "c5ae3310-df8f-4fbc-8965-452461a49179"
      },
      "outputs": [
        {
          "output_type": "error",
          "ename": "TypeError",
          "evalue": "ignored",
          "traceback": [
            "\u001b[0;31m---------------------------------------------------------------------------\u001b[0m",
            "\u001b[0;31mTypeError\u001b[0m                                 Traceback (most recent call last)",
            "\u001b[0;32m<ipython-input-36-4b32dc686a9b>\u001b[0m in \u001b[0;36m<module>\u001b[0;34m()\u001b[0m\n\u001b[1;32m      2\u001b[0m a = torch.tensor([2, 3],\n\u001b[1;32m      3\u001b[0m               \u001b[0;34m[\u001b[0m\u001b[0;36m4\u001b[0m\u001b[0;34m,\u001b[0m \u001b[0;36m5\u001b[0m\u001b[0;34m]\u001b[0m\u001b[0;34m,\u001b[0m\u001b[0;34m\u001b[0m\u001b[0;34m\u001b[0m\u001b[0m\n\u001b[0;32m----> 4\u001b[0;31m               [6, 7])\n\u001b[0m\u001b[1;32m      5\u001b[0m \u001b[0mb\u001b[0m \u001b[0;34m=\u001b[0m \u001b[0ma\u001b[0m\u001b[0;34m.\u001b[0m\u001b[0mclone\u001b[0m\u001b[0;34m(\u001b[0m\u001b[0;34m)\u001b[0m\u001b[0;34m\u001b[0m\u001b[0;34m\u001b[0m\u001b[0m\n\u001b[1;32m      6\u001b[0m \u001b[0;34m\u001b[0m\u001b[0m\n",
            "\u001b[0;31mTypeError\u001b[0m: tensor() takes 1 positional argument but 3 were given"
          ]
        }
      ],
      "source": [
        "# Example 3 - breaking (to illustrate when it breaks)\n",
        "a = torch.tensor([2, 3],\n",
        "              [4, 5], \n",
        "              [6, 7])\n",
        "b = a.clone()\n",
        "\n",
        "\n",
        "b"
      ]
    },
    {
      "cell_type": "markdown",
      "metadata": {
        "id": "P0qve6oYd3kS"
      },
      "source": [
        "Needs to be a valid tensor for this to work."
      ]
    },
    {
      "cell_type": "markdown",
      "metadata": {
        "id": "CRWdeJAkd3kS"
      },
      "source": [
        "This can be used for deep cloning a tensor to avoid 2 tensors pointing to the same memory location when copied by x=y operation."
      ]
    },
    {
      "cell_type": "code",
      "execution_count": 37,
      "metadata": {
        "colab": {
          "base_uri": "https://localhost:8080/",
          "height": 88
        },
        "id": "vJBeHxqDd3kS",
        "outputId": "999a592e-6895-4463-ef63-cdff5768c8c9"
      },
      "outputs": [
        {
          "output_type": "stream",
          "name": "stdout",
          "text": [
            "[jovian] Detected Colab notebook...\u001b[0m\n",
            "[jovian] Uploading colab notebook to Jovian...\u001b[0m\n",
            "Committed successfully! https://jovian.ai/rick101001/01-tensor-operations\n"
          ]
        },
        {
          "output_type": "execute_result",
          "data": {
            "application/vnd.google.colaboratory.intrinsic+json": {
              "type": "string"
            },
            "text/plain": [
              "'https://jovian.ai/rick101001/01-tensor-operations'"
            ]
          },
          "metadata": {},
          "execution_count": 37
        }
      ],
      "source": [
        "jovian.commit(project='01-tensor-operations')"
      ]
    },
    {
      "cell_type": "markdown",
      "metadata": {
        "id": "lAUaft51d3kS"
      },
      "source": [
        "## Conclusion\n",
        "\n",
        "PyTorch is very pythonic in nature and can be configured according to the user's specifications as per the parameters given."
      ]
    },
    {
      "cell_type": "markdown",
      "metadata": {
        "id": "Wt15KUgkd3kT"
      },
      "source": [
        "## Reference Links\n",
        "Provide links to your references and other interesting articles about tensors\n",
        "* Official documentation for tensor operations: https://pytorch.org/docs/stable/torch.html\n",
        "* [Some essential PyTorch functions to know:](https://towardsdatascience.com/useful-pytorch-functions-356de5f31a1e://)"
      ]
    },
    {
      "cell_type": "code",
      "execution_count": 38,
      "metadata": {
        "colab": {
          "base_uri": "https://localhost:8080/",
          "height": 88
        },
        "id": "aIE3ICpPd3kT",
        "outputId": "4acf4bcb-aead-4cb7-f377-f73e1051d786"
      },
      "outputs": [
        {
          "output_type": "stream",
          "name": "stdout",
          "text": [
            "[jovian] Detected Colab notebook...\u001b[0m\n",
            "[jovian] Uploading colab notebook to Jovian...\u001b[0m\n",
            "Committed successfully! https://jovian.ai/rick101001/01-tensor-operations\n"
          ]
        },
        {
          "output_type": "execute_result",
          "data": {
            "application/vnd.google.colaboratory.intrinsic+json": {
              "type": "string"
            },
            "text/plain": [
              "'https://jovian.ai/rick101001/01-tensor-operations'"
            ]
          },
          "metadata": {},
          "execution_count": 38
        }
      ],
      "source": [
        "jovian.commit(project='01-tensor-operations')"
      ]
    }
  ],
  "metadata": {
    "kernelspec": {
      "display_name": "Python 3",
      "language": "python",
      "name": "python3"
    },
    "language_info": {
      "codemirror_mode": {
        "name": "ipython",
        "version": 3
      },
      "file_extension": ".py",
      "mimetype": "text/x-python",
      "name": "python",
      "nbconvert_exporter": "python",
      "pygments_lexer": "ipython3",
      "version": "3.8.5"
    },
    "colab": {
      "name": "01-tensor-operations.ipynb",
      "provenance": [],
      "collapsed_sections": [],
      "toc_visible": true
    }
  },
  "nbformat": 4,
  "nbformat_minor": 0
}