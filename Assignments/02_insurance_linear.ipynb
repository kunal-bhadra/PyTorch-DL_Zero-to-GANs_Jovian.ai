{
  "cells": [
    {
      "cell_type": "code",
      "execution_count": 1,
      "metadata": {
        "colab": {
          "base_uri": "https://localhost:8080/"
        },
        "id": "biAu_xXxLozU",
        "outputId": "cd748c0c-bbc1-41cd-d9c9-721ca5df03b8"
      },
      "outputs": [
        {
          "output_type": "stream",
          "name": "stdout",
          "text": [
            "\u001b[?25l\r\u001b[K     |████▊                           | 10 kB 27.8 MB/s eta 0:00:01\r\u001b[K     |█████████▌                      | 20 kB 27.6 MB/s eta 0:00:01\r\u001b[K     |██████████████▎                 | 30 kB 32.3 MB/s eta 0:00:01\r\u001b[K     |███████████████████             | 40 kB 36.7 MB/s eta 0:00:01\r\u001b[K     |███████████████████████▉        | 51 kB 40.5 MB/s eta 0:00:01\r\u001b[K     |████████████████████████████▋   | 61 kB 42.6 MB/s eta 0:00:01\r\u001b[K     |████████████████████████████████| 68 kB 5.5 MB/s \n",
            "\u001b[?25h  Building wheel for uuid (setup.py) ... \u001b[?25l\u001b[?25hdone\n"
          ]
        }
      ],
      "source": [
        "# Jovian Commit Essentials\n",
        "# Please retain and execute this cell without modifying the contents for `jovian.commit` to work\n",
        "!pip install jovian --upgrade -q\n",
        "import jovian\n",
        "jovian.set_project('02-insurance-linear-regression')\n",
        "jovian.set_colab_id('1jAkwYI2uoXh43IC0kG9WmIB2vvoHV9eB')"
      ]
    },
    {
      "cell_type": "markdown",
      "metadata": {
        "_cell_guid": "b1076dfc-b9ad-4769-8c92-a6c4dae69d19",
        "_uuid": "8f2839f25d086af736a60e9eeb907d3b93b6e0e5",
        "id": "NmgpRMX2LozZ"
      },
      "source": [
        "# Insurance cost prediction using linear regression\n",
        "\n",
        "Make a submisson here: https://jovian.ai/learn/deep-learning-with-pytorch-zero-to-gans/assignment/assignment-2-train-your-first-model\n",
        "\n",
        "In this assignment we're going to use information like a person's age, sex, BMI, no. of children and smoking habit to predict the price of yearly medical bills. This kind of model is useful for insurance companies to determine the yearly insurance premium for a person. The dataset for this problem is taken from [Kaggle](https://www.kaggle.com/mirichoi0218/insurance).\n",
        "\n",
        "\n",
        "We will create a model with the following steps:\n",
        "1. Download and explore the dataset\n",
        "2. Prepare the dataset for training\n",
        "3. Create a linear regression model\n",
        "4. Train the model to fit the data\n",
        "5. Make predictions using the trained model\n",
        "\n",
        "\n",
        "This assignment builds upon the concepts from the first 2 lessons. It will help to review these Jupyter notebooks:\n",
        "- PyTorch basics: https://jovian.ai/aakashns/01-pytorch-basics\n",
        "- Linear Regression: https://jovian.ai/aakashns/02-linear-regression\n",
        "- Logistic Regression: https://jovian.ai/aakashns/03-logistic-regression\n",
        "- Linear regression (minimal): https://jovian.ai/aakashns/housing-linear-minimal\n",
        "- Logistic regression (minimal): https://jovian.ai/aakashns/mnist-logistic-minimal\n",
        "\n",
        "As you go through this notebook, you will find a **???** in certain places. Your job is to replace the **???** with appropriate code or values, to ensure that the notebook runs properly end-to-end . In some cases, you'll be required to choose some hyperparameters (learning rate, batch size etc.). Try to experiment with the hypeparameters to get the lowest loss.\n"
      ]
    },
    {
      "cell_type": "code",
      "execution_count": null,
      "metadata": {
        "id": "zRbSN3txLozb"
      },
      "outputs": [],
      "source": [
        "# Uncomment and run the appropriate command for your operating system, if required\n",
        "\n",
        "# Linux / Binder\n",
        "# !pip install numpy matplotlib pandas torch==1.7.0+cpu torchvision==0.8.1+cpu torchaudio==0.7.0 -f https://download.pytorch.org/whl/torch_stable.html\n",
        "\n",
        "# Windows\n",
        "# !pip install numpy matplotlib pandas torch==1.7.0+cpu torchvision==0.8.1+cpu torchaudio==0.7.0 -f https://download.pytorch.org/whl/torch_stable.html\n",
        "\n",
        "# MacOS\n",
        "# !pip install numpy matplotlib pandas torch torchvision torchaudio"
      ]
    },
    {
      "cell_type": "code",
      "execution_count": 2,
      "metadata": {
        "id": "w4ojdxtRLozc"
      },
      "outputs": [],
      "source": [
        "import torch\n",
        "import jovian\n",
        "import torchvision\n",
        "import torch.nn as nn\n",
        "import pandas as pd\n",
        "import matplotlib.pyplot as plt\n",
        "import torch.nn.functional as F\n",
        "from torchvision.datasets.utils import download_url\n",
        "from torch.utils.data import DataLoader, TensorDataset, random_split"
      ]
    },
    {
      "cell_type": "code",
      "execution_count": 3,
      "metadata": {
        "id": "IeQ7SSZGLozd"
      },
      "outputs": [],
      "source": [
        "project_name='02-insurance-linear-regression' # will be used by jovian.commit"
      ]
    },
    {
      "cell_type": "markdown",
      "metadata": {
        "id": "Wol557dvLozd"
      },
      "source": [
        "## Step 1: Download and explore the data\n",
        "\n",
        "Let us begin by downloading the data. We'll use the `download_url` function from PyTorch to get the data as a CSV (comma-separated values) file. "
      ]
    },
    {
      "cell_type": "code",
      "execution_count": 4,
      "metadata": {
        "_cell_guid": "79c7e3d0-c299-4dcb-8224-4455121ee9b0",
        "_uuid": "d629ff2d2480ee46fbb7e2d37f6b5fab8052498a",
        "colab": {
          "base_uri": "https://localhost:8080/",
          "height": 87,
          "referenced_widgets": [
            "1aea4f80fbe44500980e0e4d9e280031",
            "17a9b9977d5b4dd8bcba52a67551e5dc",
            "f27885e387a141deaf31e47cd9ee1f46",
            "08ddaedf4a314a4e8309bdc6db97e13d",
            "de72db18cbb14fd2bacecbfd3911c25b",
            "84a580f83e944fe8907f8fe8d2cc01ea",
            "c7b0b79f1b1f4c9f86c1bc010ab11dbd",
            "8281a92caaf7421a9e26113ac9a1564f",
            "789520f6e8d047d7833519ac2c08ff1f",
            "144e3213b45a4acd81fea0e88135c06d",
            "e749d7f7108c42429e7747a9012e5074"
          ]
        },
        "id": "l7VRWt8TLoze",
        "outputId": "48d70f35-0d1a-4d42-fd51-b171647fa23a"
      },
      "outputs": [
        {
          "output_type": "stream",
          "name": "stdout",
          "text": [
            "Downloading https://gist.githubusercontent.com/BirajCoder/5f068dfe759c1ea6bdfce9535acdb72d/raw/c84d84e3c80f93be67f6c069cbdc0195ec36acbd/insurance.csv to ./insurance.csv\n"
          ]
        },
        {
          "output_type": "display_data",
          "data": {
            "application/vnd.jupyter.widget-view+json": {
              "model_id": "1aea4f80fbe44500980e0e4d9e280031",
              "version_minor": 0,
              "version_major": 2
            },
            "text/plain": [
              "  0%|          | 0/54288 [00:00<?, ?it/s]"
            ]
          },
          "metadata": {}
        }
      ],
      "source": [
        "DATASET_URL = \"https://gist.github.com/BirajCoder/5f068dfe759c1ea6bdfce9535acdb72d/raw/c84d84e3c80f93be67f6c069cbdc0195ec36acbd/insurance.csv\"\n",
        "DATA_FILENAME = \"insurance.csv\"\n",
        "download_url(DATASET_URL, '.')"
      ]
    },
    {
      "cell_type": "markdown",
      "metadata": {
        "id": "AqDuzuoZLozg"
      },
      "source": [
        "To load the dataset into memory, we'll use the `read_csv` function from the `pandas` library. The data will be loaded as a Pandas dataframe. See this short tutorial to learn more: https://data36.com/pandas-tutorial-1-basics-reading-data-files-dataframes-data-selection/"
      ]
    },
    {
      "cell_type": "code",
      "execution_count": 5,
      "metadata": {
        "colab": {
          "base_uri": "https://localhost:8080/",
          "height": 206
        },
        "id": "NxMVF6dvLozh",
        "outputId": "807caefb-d844-46e3-ad5f-4d3b32731b88"
      },
      "outputs": [
        {
          "output_type": "execute_result",
          "data": {
            "text/html": [
              "\n",
              "  <div id=\"df-4651dd20-412f-48e6-97fc-a082cd9ce013\">\n",
              "    <div class=\"colab-df-container\">\n",
              "      <div>\n",
              "<style scoped>\n",
              "    .dataframe tbody tr th:only-of-type {\n",
              "        vertical-align: middle;\n",
              "    }\n",
              "\n",
              "    .dataframe tbody tr th {\n",
              "        vertical-align: top;\n",
              "    }\n",
              "\n",
              "    .dataframe thead th {\n",
              "        text-align: right;\n",
              "    }\n",
              "</style>\n",
              "<table border=\"1\" class=\"dataframe\">\n",
              "  <thead>\n",
              "    <tr style=\"text-align: right;\">\n",
              "      <th></th>\n",
              "      <th>age</th>\n",
              "      <th>sex</th>\n",
              "      <th>bmi</th>\n",
              "      <th>children</th>\n",
              "      <th>smoker</th>\n",
              "      <th>region</th>\n",
              "      <th>charges</th>\n",
              "    </tr>\n",
              "  </thead>\n",
              "  <tbody>\n",
              "    <tr>\n",
              "      <th>0</th>\n",
              "      <td>19</td>\n",
              "      <td>female</td>\n",
              "      <td>27.900</td>\n",
              "      <td>0</td>\n",
              "      <td>yes</td>\n",
              "      <td>southwest</td>\n",
              "      <td>16884.92400</td>\n",
              "    </tr>\n",
              "    <tr>\n",
              "      <th>1</th>\n",
              "      <td>18</td>\n",
              "      <td>male</td>\n",
              "      <td>33.770</td>\n",
              "      <td>1</td>\n",
              "      <td>no</td>\n",
              "      <td>southeast</td>\n",
              "      <td>1725.55230</td>\n",
              "    </tr>\n",
              "    <tr>\n",
              "      <th>2</th>\n",
              "      <td>28</td>\n",
              "      <td>male</td>\n",
              "      <td>33.000</td>\n",
              "      <td>3</td>\n",
              "      <td>no</td>\n",
              "      <td>southeast</td>\n",
              "      <td>4449.46200</td>\n",
              "    </tr>\n",
              "    <tr>\n",
              "      <th>3</th>\n",
              "      <td>33</td>\n",
              "      <td>male</td>\n",
              "      <td>22.705</td>\n",
              "      <td>0</td>\n",
              "      <td>no</td>\n",
              "      <td>northwest</td>\n",
              "      <td>21984.47061</td>\n",
              "    </tr>\n",
              "    <tr>\n",
              "      <th>4</th>\n",
              "      <td>32</td>\n",
              "      <td>male</td>\n",
              "      <td>28.880</td>\n",
              "      <td>0</td>\n",
              "      <td>no</td>\n",
              "      <td>northwest</td>\n",
              "      <td>3866.85520</td>\n",
              "    </tr>\n",
              "  </tbody>\n",
              "</table>\n",
              "</div>\n",
              "      <button class=\"colab-df-convert\" onclick=\"convertToInteractive('df-4651dd20-412f-48e6-97fc-a082cd9ce013')\"\n",
              "              title=\"Convert this dataframe to an interactive table.\"\n",
              "              style=\"display:none;\">\n",
              "        \n",
              "  <svg xmlns=\"http://www.w3.org/2000/svg\" height=\"24px\"viewBox=\"0 0 24 24\"\n",
              "       width=\"24px\">\n",
              "    <path d=\"M0 0h24v24H0V0z\" fill=\"none\"/>\n",
              "    <path d=\"M18.56 5.44l.94 2.06.94-2.06 2.06-.94-2.06-.94-.94-2.06-.94 2.06-2.06.94zm-11 1L8.5 8.5l.94-2.06 2.06-.94-2.06-.94L8.5 2.5l-.94 2.06-2.06.94zm10 10l.94 2.06.94-2.06 2.06-.94-2.06-.94-.94-2.06-.94 2.06-2.06.94z\"/><path d=\"M17.41 7.96l-1.37-1.37c-.4-.4-.92-.59-1.43-.59-.52 0-1.04.2-1.43.59L10.3 9.45l-7.72 7.72c-.78.78-.78 2.05 0 2.83L4 21.41c.39.39.9.59 1.41.59.51 0 1.02-.2 1.41-.59l7.78-7.78 2.81-2.81c.8-.78.8-2.07 0-2.86zM5.41 20L4 18.59l7.72-7.72 1.47 1.35L5.41 20z\"/>\n",
              "  </svg>\n",
              "      </button>\n",
              "      \n",
              "  <style>\n",
              "    .colab-df-container {\n",
              "      display:flex;\n",
              "      flex-wrap:wrap;\n",
              "      gap: 12px;\n",
              "    }\n",
              "\n",
              "    .colab-df-convert {\n",
              "      background-color: #E8F0FE;\n",
              "      border: none;\n",
              "      border-radius: 50%;\n",
              "      cursor: pointer;\n",
              "      display: none;\n",
              "      fill: #1967D2;\n",
              "      height: 32px;\n",
              "      padding: 0 0 0 0;\n",
              "      width: 32px;\n",
              "    }\n",
              "\n",
              "    .colab-df-convert:hover {\n",
              "      background-color: #E2EBFA;\n",
              "      box-shadow: 0px 1px 2px rgba(60, 64, 67, 0.3), 0px 1px 3px 1px rgba(60, 64, 67, 0.15);\n",
              "      fill: #174EA6;\n",
              "    }\n",
              "\n",
              "    [theme=dark] .colab-df-convert {\n",
              "      background-color: #3B4455;\n",
              "      fill: #D2E3FC;\n",
              "    }\n",
              "\n",
              "    [theme=dark] .colab-df-convert:hover {\n",
              "      background-color: #434B5C;\n",
              "      box-shadow: 0px 1px 3px 1px rgba(0, 0, 0, 0.15);\n",
              "      filter: drop-shadow(0px 1px 2px rgba(0, 0, 0, 0.3));\n",
              "      fill: #FFFFFF;\n",
              "    }\n",
              "  </style>\n",
              "\n",
              "      <script>\n",
              "        const buttonEl =\n",
              "          document.querySelector('#df-4651dd20-412f-48e6-97fc-a082cd9ce013 button.colab-df-convert');\n",
              "        buttonEl.style.display =\n",
              "          google.colab.kernel.accessAllowed ? 'block' : 'none';\n",
              "\n",
              "        async function convertToInteractive(key) {\n",
              "          const element = document.querySelector('#df-4651dd20-412f-48e6-97fc-a082cd9ce013');\n",
              "          const dataTable =\n",
              "            await google.colab.kernel.invokeFunction('convertToInteractive',\n",
              "                                                     [key], {});\n",
              "          if (!dataTable) return;\n",
              "\n",
              "          const docLinkHtml = 'Like what you see? Visit the ' +\n",
              "            '<a target=\"_blank\" href=https://colab.research.google.com/notebooks/data_table.ipynb>data table notebook</a>'\n",
              "            + ' to learn more about interactive tables.';\n",
              "          element.innerHTML = '';\n",
              "          dataTable['output_type'] = 'display_data';\n",
              "          await google.colab.output.renderOutput(dataTable, element);\n",
              "          const docLink = document.createElement('div');\n",
              "          docLink.innerHTML = docLinkHtml;\n",
              "          element.appendChild(docLink);\n",
              "        }\n",
              "      </script>\n",
              "    </div>\n",
              "  </div>\n",
              "  "
            ],
            "text/plain": [
              "   age     sex     bmi  children smoker     region      charges\n",
              "0   19  female  27.900         0    yes  southwest  16884.92400\n",
              "1   18    male  33.770         1     no  southeast   1725.55230\n",
              "2   28    male  33.000         3     no  southeast   4449.46200\n",
              "3   33    male  22.705         0     no  northwest  21984.47061\n",
              "4   32    male  28.880         0     no  northwest   3866.85520"
            ]
          },
          "metadata": {},
          "execution_count": 5
        }
      ],
      "source": [
        "dataframe_raw = pd.read_csv(DATA_FILENAME)\n",
        "dataframe_raw.head()"
      ]
    },
    {
      "cell_type": "markdown",
      "metadata": {
        "id": "TBiCEj0hLozi"
      },
      "source": [
        "We're going to do a slight customization of the data, so that you every participant receives a slightly different version of the dataset. Fill in your name below as a string (enter at least 5 characters)"
      ]
    },
    {
      "cell_type": "code",
      "execution_count": 6,
      "metadata": {
        "id": "-7FrdHO-Lozi"
      },
      "outputs": [],
      "source": [
        "your_name = 'Kunal' # at least 5 characters"
      ]
    },
    {
      "cell_type": "markdown",
      "metadata": {
        "id": "VIHJk5jTLozj"
      },
      "source": [
        "The `customize_dataset` function will customize the dataset slightly using your name as a source of random numbers."
      ]
    },
    {
      "cell_type": "code",
      "execution_count": 7,
      "metadata": {
        "id": "KdNKrEQELozj"
      },
      "outputs": [],
      "source": [
        "def customize_dataset(dataframe_raw, rand_str):\n",
        "    dataframe = dataframe_raw.copy(deep=True)\n",
        "    # drop some rows\n",
        "    dataframe = dataframe.sample(int(0.95*len(dataframe)), random_state=int(ord(rand_str[0])))\n",
        "    # scale input\n",
        "    dataframe.bmi = dataframe.bmi * ord(rand_str[1])/100.\n",
        "    # scale target\n",
        "    dataframe.charges = dataframe.charges * ord(rand_str[2])/100.\n",
        "    # drop column\n",
        "    if ord(rand_str[3]) % 2 == 1:\n",
        "        dataframe = dataframe.drop(['region'], axis=1)\n",
        "    return dataframe"
      ]
    },
    {
      "cell_type": "code",
      "execution_count": 8,
      "metadata": {
        "colab": {
          "base_uri": "https://localhost:8080/",
          "height": 206
        },
        "id": "rxI9Q4ctLozk",
        "outputId": "d3a4ada1-c897-4510-a013-184cafa9be3f"
      },
      "outputs": [
        {
          "output_type": "execute_result",
          "data": {
            "text/html": [
              "\n",
              "  <div id=\"df-64a92baa-36b6-459d-95c0-5c868ff00fcf\">\n",
              "    <div class=\"colab-df-container\">\n",
              "      <div>\n",
              "<style scoped>\n",
              "    .dataframe tbody tr th:only-of-type {\n",
              "        vertical-align: middle;\n",
              "    }\n",
              "\n",
              "    .dataframe tbody tr th {\n",
              "        vertical-align: top;\n",
              "    }\n",
              "\n",
              "    .dataframe thead th {\n",
              "        text-align: right;\n",
              "    }\n",
              "</style>\n",
              "<table border=\"1\" class=\"dataframe\">\n",
              "  <thead>\n",
              "    <tr style=\"text-align: right;\">\n",
              "      <th></th>\n",
              "      <th>age</th>\n",
              "      <th>sex</th>\n",
              "      <th>bmi</th>\n",
              "      <th>children</th>\n",
              "      <th>smoker</th>\n",
              "      <th>charges</th>\n",
              "    </tr>\n",
              "  </thead>\n",
              "  <tbody>\n",
              "    <tr>\n",
              "      <th>1307</th>\n",
              "      <td>32</td>\n",
              "      <td>male</td>\n",
              "      <td>32.90040</td>\n",
              "      <td>4</td>\n",
              "      <td>yes</td>\n",
              "      <td>23619.726680</td>\n",
              "    </tr>\n",
              "    <tr>\n",
              "      <th>654</th>\n",
              "      <td>59</td>\n",
              "      <td>female</td>\n",
              "      <td>41.18400</td>\n",
              "      <td>0</td>\n",
              "      <td>no</td>\n",
              "      <td>13468.984100</td>\n",
              "    </tr>\n",
              "    <tr>\n",
              "      <th>1169</th>\n",
              "      <td>37</td>\n",
              "      <td>female</td>\n",
              "      <td>39.90285</td>\n",
              "      <td>1</td>\n",
              "      <td>no</td>\n",
              "      <td>6723.588245</td>\n",
              "    </tr>\n",
              "    <tr>\n",
              "      <th>570</th>\n",
              "      <td>31</td>\n",
              "      <td>female</td>\n",
              "      <td>34.04700</td>\n",
              "      <td>0</td>\n",
              "      <td>no</td>\n",
              "      <td>4137.421200</td>\n",
              "    </tr>\n",
              "    <tr>\n",
              "      <th>633</th>\n",
              "      <td>40</td>\n",
              "      <td>male</td>\n",
              "      <td>26.56485</td>\n",
              "      <td>2</td>\n",
              "      <td>no</td>\n",
              "      <td>7890.695945</td>\n",
              "    </tr>\n",
              "  </tbody>\n",
              "</table>\n",
              "</div>\n",
              "      <button class=\"colab-df-convert\" onclick=\"convertToInteractive('df-64a92baa-36b6-459d-95c0-5c868ff00fcf')\"\n",
              "              title=\"Convert this dataframe to an interactive table.\"\n",
              "              style=\"display:none;\">\n",
              "        \n",
              "  <svg xmlns=\"http://www.w3.org/2000/svg\" height=\"24px\"viewBox=\"0 0 24 24\"\n",
              "       width=\"24px\">\n",
              "    <path d=\"M0 0h24v24H0V0z\" fill=\"none\"/>\n",
              "    <path d=\"M18.56 5.44l.94 2.06.94-2.06 2.06-.94-2.06-.94-.94-2.06-.94 2.06-2.06.94zm-11 1L8.5 8.5l.94-2.06 2.06-.94-2.06-.94L8.5 2.5l-.94 2.06-2.06.94zm10 10l.94 2.06.94-2.06 2.06-.94-2.06-.94-.94-2.06-.94 2.06-2.06.94z\"/><path d=\"M17.41 7.96l-1.37-1.37c-.4-.4-.92-.59-1.43-.59-.52 0-1.04.2-1.43.59L10.3 9.45l-7.72 7.72c-.78.78-.78 2.05 0 2.83L4 21.41c.39.39.9.59 1.41.59.51 0 1.02-.2 1.41-.59l7.78-7.78 2.81-2.81c.8-.78.8-2.07 0-2.86zM5.41 20L4 18.59l7.72-7.72 1.47 1.35L5.41 20z\"/>\n",
              "  </svg>\n",
              "      </button>\n",
              "      \n",
              "  <style>\n",
              "    .colab-df-container {\n",
              "      display:flex;\n",
              "      flex-wrap:wrap;\n",
              "      gap: 12px;\n",
              "    }\n",
              "\n",
              "    .colab-df-convert {\n",
              "      background-color: #E8F0FE;\n",
              "      border: none;\n",
              "      border-radius: 50%;\n",
              "      cursor: pointer;\n",
              "      display: none;\n",
              "      fill: #1967D2;\n",
              "      height: 32px;\n",
              "      padding: 0 0 0 0;\n",
              "      width: 32px;\n",
              "    }\n",
              "\n",
              "    .colab-df-convert:hover {\n",
              "      background-color: #E2EBFA;\n",
              "      box-shadow: 0px 1px 2px rgba(60, 64, 67, 0.3), 0px 1px 3px 1px rgba(60, 64, 67, 0.15);\n",
              "      fill: #174EA6;\n",
              "    }\n",
              "\n",
              "    [theme=dark] .colab-df-convert {\n",
              "      background-color: #3B4455;\n",
              "      fill: #D2E3FC;\n",
              "    }\n",
              "\n",
              "    [theme=dark] .colab-df-convert:hover {\n",
              "      background-color: #434B5C;\n",
              "      box-shadow: 0px 1px 3px 1px rgba(0, 0, 0, 0.15);\n",
              "      filter: drop-shadow(0px 1px 2px rgba(0, 0, 0, 0.3));\n",
              "      fill: #FFFFFF;\n",
              "    }\n",
              "  </style>\n",
              "\n",
              "      <script>\n",
              "        const buttonEl =\n",
              "          document.querySelector('#df-64a92baa-36b6-459d-95c0-5c868ff00fcf button.colab-df-convert');\n",
              "        buttonEl.style.display =\n",
              "          google.colab.kernel.accessAllowed ? 'block' : 'none';\n",
              "\n",
              "        async function convertToInteractive(key) {\n",
              "          const element = document.querySelector('#df-64a92baa-36b6-459d-95c0-5c868ff00fcf');\n",
              "          const dataTable =\n",
              "            await google.colab.kernel.invokeFunction('convertToInteractive',\n",
              "                                                     [key], {});\n",
              "          if (!dataTable) return;\n",
              "\n",
              "          const docLinkHtml = 'Like what you see? Visit the ' +\n",
              "            '<a target=\"_blank\" href=https://colab.research.google.com/notebooks/data_table.ipynb>data table notebook</a>'\n",
              "            + ' to learn more about interactive tables.';\n",
              "          element.innerHTML = '';\n",
              "          dataTable['output_type'] = 'display_data';\n",
              "          await google.colab.output.renderOutput(dataTable, element);\n",
              "          const docLink = document.createElement('div');\n",
              "          docLink.innerHTML = docLinkHtml;\n",
              "          element.appendChild(docLink);\n",
              "        }\n",
              "      </script>\n",
              "    </div>\n",
              "  </div>\n",
              "  "
            ],
            "text/plain": [
              "      age     sex       bmi  children smoker       charges\n",
              "1307   32    male  32.90040         4    yes  23619.726680\n",
              "654    59  female  41.18400         0     no  13468.984100\n",
              "1169   37  female  39.90285         1     no   6723.588245\n",
              "570    31  female  34.04700         0     no   4137.421200\n",
              "633    40    male  26.56485         2     no   7890.695945"
            ]
          },
          "metadata": {},
          "execution_count": 8
        }
      ],
      "source": [
        "dataframe = customize_dataset(dataframe_raw, your_name)\n",
        "dataframe.head()"
      ]
    },
    {
      "cell_type": "markdown",
      "metadata": {
        "id": "Ybmyqb5NLozk"
      },
      "source": [
        "Let us answer some basic questions about the dataset. \n",
        "\n",
        "\n",
        "**Q1: How many rows does the dataset have?**"
      ]
    },
    {
      "cell_type": "code",
      "execution_count": 9,
      "metadata": {
        "colab": {
          "base_uri": "https://localhost:8080/"
        },
        "id": "FzX1HHigLozk",
        "outputId": "f9fbc73b-fc73-4e19-eadf-e02a8082ebd1"
      },
      "outputs": [
        {
          "output_type": "stream",
          "name": "stdout",
          "text": [
            "1271\n"
          ]
        }
      ],
      "source": [
        "num_rows = len(dataframe)\n",
        "print(num_rows)"
      ]
    },
    {
      "cell_type": "markdown",
      "metadata": {
        "id": "UGlKi_NzLozl"
      },
      "source": [
        "**Q2: How many columns doe the dataset have**"
      ]
    },
    {
      "cell_type": "code",
      "execution_count": 12,
      "metadata": {
        "colab": {
          "base_uri": "https://localhost:8080/"
        },
        "id": "ktdXlJq0Lozl",
        "outputId": "1ce92556-3258-4dd7-ef60-f96d97512a09"
      },
      "outputs": [
        {
          "output_type": "stream",
          "name": "stdout",
          "text": [
            "6\n"
          ]
        }
      ],
      "source": [
        "num_cols = len(dataframe.columns)\n",
        "print(num_cols)"
      ]
    },
    {
      "cell_type": "markdown",
      "metadata": {
        "id": "suQhg8NnLozl"
      },
      "source": [
        "**Q3: What are the column titles of the input variables?**"
      ]
    },
    {
      "cell_type": "code",
      "execution_count": 13,
      "metadata": {
        "colab": {
          "base_uri": "https://localhost:8080/"
        },
        "id": "8cvLEGMoLozl",
        "outputId": "db327eca-8036-4941-81a1-1ecf6fa0cb0f"
      },
      "outputs": [
        {
          "output_type": "execute_result",
          "data": {
            "text/plain": [
              "Index(['age', 'sex', 'bmi', 'children', 'smoker'], dtype='object')"
            ]
          },
          "metadata": {},
          "execution_count": 13
        }
      ],
      "source": [
        "input_cols = dataframe.columns[:-1]\n",
        "input_cols"
      ]
    },
    {
      "cell_type": "markdown",
      "metadata": {
        "id": "fpsK4UfzLozm"
      },
      "source": [
        "**Q4: Which of the input columns are non-numeric or categorial variables ?**\n",
        "\n",
        "Hint: `sex` is one of them. List the columns that are not numbers."
      ]
    },
    {
      "cell_type": "code",
      "execution_count": 24,
      "metadata": {
        "colab": {
          "base_uri": "https://localhost:8080/"
        },
        "id": "pKIwhHrvLozm",
        "outputId": "f1d7d320-b01b-4773-80f6-4b03684e66a2"
      },
      "outputs": [
        {
          "output_type": "execute_result",
          "data": {
            "text/plain": [
              "['smoker', 'sex']"
            ]
          },
          "metadata": {},
          "execution_count": 24
        }
      ],
      "source": [
        "categorical_cols = ['smoker', 'sex']\n",
        "categorical_cols"
      ]
    },
    {
      "cell_type": "markdown",
      "metadata": {
        "id": "PP6NfGBELozm"
      },
      "source": [
        "**Q5: What are the column titles of output/target variable(s)?**"
      ]
    },
    {
      "cell_type": "code",
      "execution_count": 18,
      "metadata": {
        "colab": {
          "base_uri": "https://localhost:8080/"
        },
        "id": "biB-f4ioLozn",
        "outputId": "27062f8d-b3be-45c8-a7c3-3d7a97e1b7b1"
      },
      "outputs": [
        {
          "output_type": "execute_result",
          "data": {
            "text/plain": [
              "['charges']"
            ]
          },
          "metadata": {},
          "execution_count": 18
        }
      ],
      "source": [
        "output_cols = ['charges']\n",
        "output_cols"
      ]
    },
    {
      "cell_type": "markdown",
      "metadata": {
        "id": "T2z0_v9KLozn"
      },
      "source": [
        "**Q: (Optional) What is the minimum, maximum and average value of the `charges` column? Can you show the distribution of values in a graph?**\n",
        "Use this data visualization cheatsheet for referece: https://jovian.ai/aakashns/dataviz-cheatsheet"
      ]
    },
    {
      "cell_type": "code",
      "execution_count": 19,
      "metadata": {
        "colab": {
          "base_uri": "https://localhost:8080/",
          "height": 300
        },
        "id": "vM65-vVLLozn",
        "outputId": "fd6c2da7-1ee0-4ab1-a371-89ea93a3e426"
      },
      "outputs": [
        {
          "output_type": "execute_result",
          "data": {
            "text/html": [
              "\n",
              "  <div id=\"df-06ce7bbd-e69a-465c-9bfa-c52aac7750da\">\n",
              "    <div class=\"colab-df-container\">\n",
              "      <div>\n",
              "<style scoped>\n",
              "    .dataframe tbody tr th:only-of-type {\n",
              "        vertical-align: middle;\n",
              "    }\n",
              "\n",
              "    .dataframe tbody tr th {\n",
              "        vertical-align: top;\n",
              "    }\n",
              "\n",
              "    .dataframe thead th {\n",
              "        text-align: right;\n",
              "    }\n",
              "</style>\n",
              "<table border=\"1\" class=\"dataframe\">\n",
              "  <thead>\n",
              "    <tr style=\"text-align: right;\">\n",
              "      <th></th>\n",
              "      <th>age</th>\n",
              "      <th>bmi</th>\n",
              "      <th>children</th>\n",
              "      <th>charges</th>\n",
              "    </tr>\n",
              "  </thead>\n",
              "  <tbody>\n",
              "    <tr>\n",
              "      <th>count</th>\n",
              "      <td>1271.000000</td>\n",
              "      <td>1271.000000</td>\n",
              "      <td>1271.000000</td>\n",
              "      <td>1271.000000</td>\n",
              "    </tr>\n",
              "    <tr>\n",
              "      <th>mean</th>\n",
              "      <td>39.129819</td>\n",
              "      <td>35.895844</td>\n",
              "      <td>1.099135</td>\n",
              "      <td>14675.178924</td>\n",
              "    </tr>\n",
              "    <tr>\n",
              "      <th>std</th>\n",
              "      <td>14.021288</td>\n",
              "      <td>7.117845</td>\n",
              "      <td>1.210684</td>\n",
              "      <td>13422.198766</td>\n",
              "    </tr>\n",
              "    <tr>\n",
              "      <th>min</th>\n",
              "      <td>18.000000</td>\n",
              "      <td>18.673200</td>\n",
              "      <td>0.000000</td>\n",
              "      <td>1234.061290</td>\n",
              "    </tr>\n",
              "    <tr>\n",
              "      <th>25%</th>\n",
              "      <td>26.500000</td>\n",
              "      <td>30.788550</td>\n",
              "      <td>0.000000</td>\n",
              "      <td>5216.536710</td>\n",
              "    </tr>\n",
              "    <tr>\n",
              "      <th>50%</th>\n",
              "      <td>39.000000</td>\n",
              "      <td>35.568000</td>\n",
              "      <td>1.000000</td>\n",
              "      <td>10330.480600</td>\n",
              "    </tr>\n",
              "    <tr>\n",
              "      <th>75%</th>\n",
              "      <td>51.000000</td>\n",
              "      <td>40.525875</td>\n",
              "      <td>2.000000</td>\n",
              "      <td>18660.545970</td>\n",
              "    </tr>\n",
              "    <tr>\n",
              "      <th>max</th>\n",
              "      <td>64.000000</td>\n",
              "      <td>62.162100</td>\n",
              "      <td>5.000000</td>\n",
              "      <td>70147.470811</td>\n",
              "    </tr>\n",
              "  </tbody>\n",
              "</table>\n",
              "</div>\n",
              "      <button class=\"colab-df-convert\" onclick=\"convertToInteractive('df-06ce7bbd-e69a-465c-9bfa-c52aac7750da')\"\n",
              "              title=\"Convert this dataframe to an interactive table.\"\n",
              "              style=\"display:none;\">\n",
              "        \n",
              "  <svg xmlns=\"http://www.w3.org/2000/svg\" height=\"24px\"viewBox=\"0 0 24 24\"\n",
              "       width=\"24px\">\n",
              "    <path d=\"M0 0h24v24H0V0z\" fill=\"none\"/>\n",
              "    <path d=\"M18.56 5.44l.94 2.06.94-2.06 2.06-.94-2.06-.94-.94-2.06-.94 2.06-2.06.94zm-11 1L8.5 8.5l.94-2.06 2.06-.94-2.06-.94L8.5 2.5l-.94 2.06-2.06.94zm10 10l.94 2.06.94-2.06 2.06-.94-2.06-.94-.94-2.06-.94 2.06-2.06.94z\"/><path d=\"M17.41 7.96l-1.37-1.37c-.4-.4-.92-.59-1.43-.59-.52 0-1.04.2-1.43.59L10.3 9.45l-7.72 7.72c-.78.78-.78 2.05 0 2.83L4 21.41c.39.39.9.59 1.41.59.51 0 1.02-.2 1.41-.59l7.78-7.78 2.81-2.81c.8-.78.8-2.07 0-2.86zM5.41 20L4 18.59l7.72-7.72 1.47 1.35L5.41 20z\"/>\n",
              "  </svg>\n",
              "      </button>\n",
              "      \n",
              "  <style>\n",
              "    .colab-df-container {\n",
              "      display:flex;\n",
              "      flex-wrap:wrap;\n",
              "      gap: 12px;\n",
              "    }\n",
              "\n",
              "    .colab-df-convert {\n",
              "      background-color: #E8F0FE;\n",
              "      border: none;\n",
              "      border-radius: 50%;\n",
              "      cursor: pointer;\n",
              "      display: none;\n",
              "      fill: #1967D2;\n",
              "      height: 32px;\n",
              "      padding: 0 0 0 0;\n",
              "      width: 32px;\n",
              "    }\n",
              "\n",
              "    .colab-df-convert:hover {\n",
              "      background-color: #E2EBFA;\n",
              "      box-shadow: 0px 1px 2px rgba(60, 64, 67, 0.3), 0px 1px 3px 1px rgba(60, 64, 67, 0.15);\n",
              "      fill: #174EA6;\n",
              "    }\n",
              "\n",
              "    [theme=dark] .colab-df-convert {\n",
              "      background-color: #3B4455;\n",
              "      fill: #D2E3FC;\n",
              "    }\n",
              "\n",
              "    [theme=dark] .colab-df-convert:hover {\n",
              "      background-color: #434B5C;\n",
              "      box-shadow: 0px 1px 3px 1px rgba(0, 0, 0, 0.15);\n",
              "      filter: drop-shadow(0px 1px 2px rgba(0, 0, 0, 0.3));\n",
              "      fill: #FFFFFF;\n",
              "    }\n",
              "  </style>\n",
              "\n",
              "      <script>\n",
              "        const buttonEl =\n",
              "          document.querySelector('#df-06ce7bbd-e69a-465c-9bfa-c52aac7750da button.colab-df-convert');\n",
              "        buttonEl.style.display =\n",
              "          google.colab.kernel.accessAllowed ? 'block' : 'none';\n",
              "\n",
              "        async function convertToInteractive(key) {\n",
              "          const element = document.querySelector('#df-06ce7bbd-e69a-465c-9bfa-c52aac7750da');\n",
              "          const dataTable =\n",
              "            await google.colab.kernel.invokeFunction('convertToInteractive',\n",
              "                                                     [key], {});\n",
              "          if (!dataTable) return;\n",
              "\n",
              "          const docLinkHtml = 'Like what you see? Visit the ' +\n",
              "            '<a target=\"_blank\" href=https://colab.research.google.com/notebooks/data_table.ipynb>data table notebook</a>'\n",
              "            + ' to learn more about interactive tables.';\n",
              "          element.innerHTML = '';\n",
              "          dataTable['output_type'] = 'display_data';\n",
              "          await google.colab.output.renderOutput(dataTable, element);\n",
              "          const docLink = document.createElement('div');\n",
              "          docLink.innerHTML = docLinkHtml;\n",
              "          element.appendChild(docLink);\n",
              "        }\n",
              "      </script>\n",
              "    </div>\n",
              "  </div>\n",
              "  "
            ],
            "text/plain": [
              "               age          bmi     children       charges\n",
              "count  1271.000000  1271.000000  1271.000000   1271.000000\n",
              "mean     39.129819    35.895844     1.099135  14675.178924\n",
              "std      14.021288     7.117845     1.210684  13422.198766\n",
              "min      18.000000    18.673200     0.000000   1234.061290\n",
              "25%      26.500000    30.788550     0.000000   5216.536710\n",
              "50%      39.000000    35.568000     1.000000  10330.480600\n",
              "75%      51.000000    40.525875     2.000000  18660.545970\n",
              "max      64.000000    62.162100     5.000000  70147.470811"
            ]
          },
          "metadata": {},
          "execution_count": 19
        }
      ],
      "source": [
        "dataframe.describe()"
      ]
    },
    {
      "cell_type": "code",
      "source": [
        "import seaborn as sns\n",
        "\n",
        "plt.title(\"Distribution of Insurance Charges\")\n",
        "\n",
        "sns.distplot(dataframe.charges)"
      ],
      "metadata": {
        "colab": {
          "base_uri": "https://localhost:8080/",
          "height": 367
        },
        "id": "QzvY6S_XOEns",
        "outputId": "cab54bb5-bf59-4485-9e37-03883625940d"
      },
      "execution_count": 20,
      "outputs": [
        {
          "output_type": "stream",
          "name": "stderr",
          "text": [
            "/usr/local/lib/python3.7/dist-packages/seaborn/distributions.py:2619: FutureWarning: `distplot` is a deprecated function and will be removed in a future version. Please adapt your code to use either `displot` (a figure-level function with similar flexibility) or `histplot` (an axes-level function for histograms).\n",
            "  warnings.warn(msg, FutureWarning)\n"
          ]
        },
        {
          "output_type": "execute_result",
          "data": {
            "text/plain": [
              "<matplotlib.axes._subplots.AxesSubplot at 0x7f676f954910>"
            ]
          },
          "metadata": {},
          "execution_count": 20
        },
        {
          "output_type": "display_data",
          "data": {
            "image/png": "[encoded data removed]",
            "text/plain": [
              "<Figure size 432x288 with 1 Axes>"
            ]
          },
          "metadata": {
            "needs_background": "light"
          }
        }
      ]
    },
    {
      "cell_type": "markdown",
      "metadata": {
        "id": "8eKigNKiLozn"
      },
      "source": [
        "Remember to commit your notebook to Jovian after every step, so that you don't lose your work."
      ]
    },
    {
      "cell_type": "code",
      "execution_count": 21,
      "metadata": {
        "id": "B4MTVk23Lozn"
      },
      "outputs": [],
      "source": [
        "!pip install jovian --upgrade -q"
      ]
    },
    {
      "cell_type": "code",
      "execution_count": 22,
      "metadata": {
        "id": "wIbFr2kOLozo"
      },
      "outputs": [],
      "source": [
        "import jovian"
      ]
    },
    {
      "cell_type": "code",
      "execution_count": 23,
      "metadata": {
        "colab": {
          "base_uri": "https://localhost:8080/",
          "height": 122
        },
        "id": "7gowit7nLozo",
        "outputId": "20aa322d-2b5e-4495-aeed-30fdf69f341c"
      },
      "outputs": [
        {
          "output_type": "stream",
          "name": "stdout",
          "text": [
            "[jovian] Detected Colab notebook...\u001b[0m\n",
            "[jovian] Please enter your API key ( from https://jovian.ai/ ):\u001b[0m\n",
            "API KEY: ··········\n",
            "[jovian] Uploading colab notebook to Jovian...\u001b[0m\n",
            "Committed successfully! https://jovian.ai/rick101001/02-insurance-linear-regression\n"
          ]
        },
        {
          "output_type": "execute_result",
          "data": {
            "application/vnd.google.colaboratory.intrinsic+json": {
              "type": "string"
            },
            "text/plain": [
              "'https://jovian.ai/rick101001/02-insurance-linear-regression'"
            ]
          },
          "metadata": {},
          "execution_count": 23
        }
      ],
      "source": [
        "jovian.commit()"
      ]
    },
    {
      "cell_type": "markdown",
      "metadata": {
        "id": "JJuRaPs2Lozo"
      },
      "source": [
        "## Step 2: Prepare the dataset for training\n",
        "\n",
        "We need to convert the data from the Pandas dataframe into a PyTorch tensors for training. To do this, the first step is to convert it numpy arrays. If you've filled out `input_cols`, `categorial_cols` and `output_cols` correctly, this following function will perform the conversion to numpy arrays."
      ]
    },
    {
      "cell_type": "code",
      "execution_count": 25,
      "metadata": {
        "id": "S59OPTHKLozo"
      },
      "outputs": [],
      "source": [
        "def dataframe_to_arrays(dataframe):\n",
        "    # Make a copy of the original dataframe\n",
        "    dataframe1 = dataframe.copy(deep=True)\n",
        "    # Convert non-numeric categorical columns to numbers\n",
        "    for col in categorical_cols:\n",
        "        dataframe1[col] = dataframe1[col].astype('category').cat.codes\n",
        "    # Extract input & outupts as numpy arrays\n",
        "    inputs_array = dataframe1[input_cols].to_numpy()\n",
        "    targets_array = dataframe1[output_cols].to_numpy()\n",
        "    return inputs_array, targets_array"
      ]
    },
    {
      "cell_type": "markdown",
      "metadata": {
        "id": "tZMNC4GtLozo"
      },
      "source": [
        "Read through the [Pandas documentation](https://pandas.pydata.org/pandas-docs/stable/user_guide/categorical.html) to understand how we're converting categorical variables into numbers."
      ]
    },
    {
      "cell_type": "code",
      "execution_count": 26,
      "metadata": {
        "colab": {
          "base_uri": "https://localhost:8080/"
        },
        "id": "8HJjTx4eLozp",
        "outputId": "2d5d7cec-de50-44ea-cd7a-8c37a13c6eed"
      },
      "outputs": [
        {
          "output_type": "execute_result",
          "data": {
            "text/plain": [
              "(array([[32.     ,  1.     , 32.9004 ,  4.     ,  1.     ],\n",
              "        [59.     ,  0.     , 41.184  ,  0.     ,  0.     ],\n",
              "        [37.     ,  0.     , 39.90285,  1.     ,  0.     ],\n",
              "        ...,\n",
              "        [57.     ,  0.     , 23.517  ,  1.     ,  0.     ],\n",
              "        [23.     ,  1.     , 40.248  ,  0.     ,  0.     ],\n",
              "        [57.     ,  0.     , 28.0566 ,  1.     ,  0.     ]]),\n",
              " array([[23619.72668 ],\n",
              "        [13468.9841  ],\n",
              "        [ 6723.588245],\n",
              "        ...,\n",
              "        [13235.5586  ],\n",
              "        [ 2009.5273  ],\n",
              "        [24411.680821]]))"
            ]
          },
          "metadata": {},
          "execution_count": 26
        }
      ],
      "source": [
        "inputs_array, targets_array = dataframe_to_arrays(dataframe)\n",
        "inputs_array, targets_array"
      ]
    },
    {
      "cell_type": "markdown",
      "metadata": {
        "id": "3MSnHH-7Lozp"
      },
      "source": [
        "**Q6: Convert the numpy arrays `inputs_array` and `targets_array` into PyTorch tensors. Make sure that the data type is `torch.float32`.**"
      ]
    },
    {
      "cell_type": "code",
      "execution_count": 28,
      "metadata": {
        "colab": {
          "base_uri": "https://localhost:8080/"
        },
        "id": "oKKZN1p2Lozp",
        "outputId": "b00024f1-6573-4518-ddc1-24e9ea72b0ec"
      },
      "outputs": [
        {
          "output_type": "execute_result",
          "data": {
            "text/plain": [
              "(tensor([[32.0000,  1.0000, 32.9004,  4.0000,  1.0000],\n",
              "         [59.0000,  0.0000, 41.1840,  0.0000,  0.0000],\n",
              "         [37.0000,  0.0000, 39.9029,  1.0000,  0.0000],\n",
              "         ...,\n",
              "         [57.0000,  0.0000, 23.5170,  1.0000,  0.0000],\n",
              "         [23.0000,  1.0000, 40.2480,  0.0000,  0.0000],\n",
              "         [57.0000,  0.0000, 28.0566,  1.0000,  0.0000]]), tensor([[23619.7266],\n",
              "         [13468.9844],\n",
              "         [ 6723.5884],\n",
              "         ...,\n",
              "         [13235.5586],\n",
              "         [ 2009.5273],\n",
              "         [24411.6816]]))"
            ]
          },
          "metadata": {},
          "execution_count": 28
        }
      ],
      "source": [
        "inputs = torch.as_tensor(inputs_array, dtype=torch.float32)\n",
        "targets = torch.as_tensor(targets_array, dtype=torch.float32)\n",
        "inputs, targets"
      ]
    },
    {
      "cell_type": "code",
      "execution_count": 29,
      "metadata": {
        "colab": {
          "base_uri": "https://localhost:8080/"
        },
        "id": "IBncy4-ALozp",
        "outputId": "383d9be0-5d93-4c13-be2f-7413aff3f0d7"
      },
      "outputs": [
        {
          "output_type": "execute_result",
          "data": {
            "text/plain": [
              "(torch.float32, torch.float32)"
            ]
          },
          "metadata": {},
          "execution_count": 29
        }
      ],
      "source": [
        "inputs.dtype, targets.dtype"
      ]
    },
    {
      "cell_type": "markdown",
      "metadata": {
        "id": "0xpP5zkSLozp"
      },
      "source": [
        "Next, we need to create PyTorch datasets & data loaders for training & validation. We'll start by creating a `TensorDataset`."
      ]
    },
    {
      "cell_type": "code",
      "execution_count": 30,
      "metadata": {
        "id": "LXe6ruZhLozq"
      },
      "outputs": [],
      "source": [
        "dataset = TensorDataset(inputs, targets)"
      ]
    },
    {
      "cell_type": "markdown",
      "metadata": {
        "id": "zd5qZemFLozq"
      },
      "source": [
        "**Q7: Pick a number between `0.1` and `0.2` to determine the fraction of data that will be used for creating the validation set. Then use `random_split` to create training & validation datasets.**"
      ]
    },
    {
      "cell_type": "code",
      "execution_count": 31,
      "metadata": {
        "id": "YxIszjq8Lozq"
      },
      "outputs": [],
      "source": [
        "val_percent = 0.2 # between 0.1 and 0.2\n",
        "val_size = int(num_rows * val_percent)\n",
        "train_size = num_rows - val_size\n",
        "\n",
        "\n",
        "train_ds, val_ds = random_split(dataset, [train_size, val_size]) # Use the random_split function to split dataset into 2 parts of the desired length"
      ]
    },
    {
      "cell_type": "markdown",
      "metadata": {
        "id": "PdYbisGZLozq"
      },
      "source": [
        "Finally, we can create data loaders for training & validation.\n",
        "\n",
        "**Q8: Pick a batch size for the data loader.**"
      ]
    },
    {
      "cell_type": "code",
      "execution_count": 32,
      "metadata": {
        "id": "Ro7D96wFLozq"
      },
      "outputs": [],
      "source": [
        "batch_size = 128"
      ]
    },
    {
      "cell_type": "code",
      "execution_count": 33,
      "metadata": {
        "id": "CF7D2aIfLozq"
      },
      "outputs": [],
      "source": [
        "train_loader = DataLoader(train_ds, batch_size, shuffle=True)\n",
        "val_loader = DataLoader(val_ds, batch_size)"
      ]
    },
    {
      "cell_type": "markdown",
      "metadata": {
        "id": "3r_Ac2yBLozr"
      },
      "source": [
        "Let's look at a batch of data to verify everything is working fine so far."
      ]
    },
    {
      "cell_type": "code",
      "execution_count": 34,
      "metadata": {
        "colab": {
          "base_uri": "https://localhost:8080/"
        },
        "id": "JH9FJTSuLozr",
        "outputId": "fb9f6cd6-cdee-479e-e1aa-0ef695afc005"
      },
      "outputs": [
        {
          "output_type": "stream",
          "name": "stdout",
          "text": [
            "inputs: tensor([[26.0000,  1.0000, 54.4401,  1.0000,  0.0000],\n",
            "        [46.0000,  0.0000, 39.1248,  1.0000,  0.0000],\n",
            "        [58.0000,  1.0000, 29.4548,  0.0000,  0.0000],\n",
            "        [52.0000,  1.0000, 55.8558,  1.0000,  0.0000],\n",
            "        [30.0000,  0.0000, 33.2046,  1.0000,  1.0000],\n",
            "        [48.0000,  1.0000, 46.9755,  0.0000,  0.0000],\n",
            "        [31.0000,  0.0000, 35.6791,  3.0000,  0.0000],\n",
            "        [46.0000,  0.0000, 36.0360,  3.0000,  0.0000],\n",
            "        [39.0000,  0.0000, 29.1213,  3.0000,  1.0000],\n",
            "        [61.0000,  0.0000, 24.6753,  0.0000,  0.0000],\n",
            "        [54.0000,  0.0000, 33.7896,  2.0000,  0.0000],\n",
            "        [27.0000,  0.0000, 36.5684,  1.0000,  0.0000],\n",
            "        [24.0000,  1.0000, 46.9755,  0.0000,  1.0000],\n",
            "        [46.0000,  0.0000, 33.8130,  2.0000,  0.0000],\n",
            "        [18.0000,  0.0000, 36.6795,  0.0000,  0.0000],\n",
            "        [41.0000,  1.0000, 33.6960,  1.0000,  0.0000],\n",
            "        [41.0000,  1.0000, 41.8275,  1.0000,  1.0000],\n",
            "        [48.0000,  1.0000, 41.6813,  4.0000,  0.0000],\n",
            "        [19.0000,  0.0000, 42.7928,  0.0000,  0.0000],\n",
            "        [33.0000,  1.0000, 49.6080,  5.0000,  0.0000],\n",
            "        [61.0000,  0.0000, 45.7470,  2.0000,  0.0000],\n",
            "        [36.0000,  0.0000, 35.0064,  1.0000,  0.0000],\n",
            "        [59.0000,  0.0000, 37.9021,  3.0000,  0.0000],\n",
            "        [59.0000,  1.0000, 34.9011,  3.0000,  1.0000],\n",
            "        [38.0000,  1.0000, 36.2700,  1.0000,  0.0000],\n",
            "        [53.0000,  0.0000, 43.1262,  3.0000,  1.0000],\n",
            "        [35.0000,  1.0000, 33.8130,  3.0000,  0.0000],\n",
            "        [54.0000,  0.0000, 25.1199,  3.0000,  0.0000],\n",
            "        [52.0000,  1.0000, 38.9025,  0.0000,  0.0000],\n",
            "        [52.0000,  0.0000, 21.4520,  0.0000,  0.0000],\n",
            "        [21.0000,  0.0000, 19.6735,  1.0000,  0.0000],\n",
            "        [30.0000,  1.0000, 29.7882,  0.0000,  0.0000],\n",
            "        [59.0000,  0.0000, 27.6763,  0.0000,  1.0000],\n",
            "        [54.0000,  1.0000, 35.1234,  0.0000,  0.0000],\n",
            "        [54.0000,  0.0000, 26.9100,  3.0000,  0.0000],\n",
            "        [49.0000,  1.0000, 36.6795,  1.0000,  0.0000],\n",
            "        [31.0000,  1.0000, 36.1237,  0.0000,  0.0000],\n",
            "        [51.0000,  0.0000, 30.1860,  1.0000,  0.0000],\n",
            "        [26.0000,  1.0000, 34.1055,  1.0000,  0.0000],\n",
            "        [19.0000,  1.0000, 32.2920,  0.0000,  0.0000],\n",
            "        [19.0000,  1.0000, 34.0119,  0.0000,  1.0000],\n",
            "        [21.0000,  0.0000, 30.8880,  1.0000,  0.0000],\n",
            "        [52.0000,  0.0000, 36.5040,  0.0000,  0.0000],\n",
            "        [33.0000,  1.0000, 41.8275,  1.0000,  1.0000],\n",
            "        [64.0000,  1.0000, 28.8990,  1.0000,  0.0000],\n",
            "        [23.0000,  1.0000, 20.3405,  1.0000,  0.0000],\n",
            "        [47.0000,  1.0000, 45.5598,  2.0000,  1.0000],\n",
            "        [25.0000,  1.0000, 27.9630,  5.0000,  0.0000],\n",
            "        [19.0000,  1.0000, 40.8330,  0.0000,  1.0000],\n",
            "        [24.0000,  0.0000, 24.0084,  0.0000,  1.0000],\n",
            "        [57.0000,  1.0000, 47.2329,  0.0000,  0.0000],\n",
            "        [22.0000,  0.0000, 35.5680,  0.0000,  0.0000],\n",
            "        [20.0000,  0.0000, 43.2900,  5.0000,  0.0000],\n",
            "        [36.0000,  0.0000, 25.8979,  3.0000,  0.0000],\n",
            "        [48.0000,  0.0000, 37.7910,  2.0000,  0.0000],\n",
            "        [57.0000,  0.0000, 23.5170,  1.0000,  0.0000],\n",
            "        [44.0000,  0.0000, 30.1860,  1.0000,  0.0000],\n",
            "        [42.0000,  1.0000, 39.8970,  0.0000,  0.0000],\n",
            "        [42.0000,  1.0000, 41.8860,  2.0000,  0.0000],\n",
            "        [19.0000,  1.0000, 40.7160,  0.0000,  1.0000],\n",
            "        [38.0000,  0.0000, 32.5670,  2.0000,  0.0000],\n",
            "        [60.0000,  1.0000, 30.1158,  0.0000,  0.0000],\n",
            "        [41.0000,  1.0000, 37.6740,  2.0000,  0.0000],\n",
            "        [19.0000,  0.0000, 38.4930,  0.0000,  0.0000],\n",
            "        [46.0000,  0.0000, 40.4820,  1.0000,  1.0000],\n",
            "        [40.0000,  1.0000, 48.7773,  0.0000,  0.0000],\n",
            "        [24.0000,  1.0000, 39.3471,  4.0000,  0.0000],\n",
            "        [30.0000,  1.0000, 28.5480,  3.0000,  1.0000],\n",
            "        [52.0000,  0.0000, 54.6975,  5.0000,  0.0000],\n",
            "        [19.0000,  0.0000, 33.1227,  0.0000,  1.0000],\n",
            "        [64.0000,  1.0000, 30.8997,  0.0000,  0.0000],\n",
            "        [37.0000,  1.0000, 42.3423,  0.0000,  0.0000],\n",
            "        [46.0000,  0.0000, 41.5701,  0.0000,  1.0000],\n",
            "        [27.0000,  0.0000, 37.9021,  1.0000,  0.0000],\n",
            "        [55.0000,  1.0000, 44.1265,  3.0000,  0.0000],\n",
            "        [38.0000,  0.0000, 46.9755,  0.0000,  0.0000],\n",
            "        [54.0000,  0.0000, 36.0360,  3.0000,  0.0000],\n",
            "        [62.0000,  0.0000, 43.1262,  1.0000,  0.0000],\n",
            "        [39.0000,  0.0000, 30.7885,  2.0000,  0.0000],\n",
            "        [22.0000,  1.0000, 37.1241,  0.0000,  0.0000],\n",
            "        [30.0000,  1.0000, 33.5673,  3.0000,  1.0000],\n",
            "        [28.0000,  1.0000, 31.5666,  2.0000,  0.0000],\n",
            "        [26.0000,  0.0000, 33.6785,  0.0000,  0.0000],\n",
            "        [19.0000,  0.0000, 33.1110,  0.0000,  1.0000],\n",
            "        [30.0000,  1.0000, 41.5701,  0.0000,  1.0000],\n",
            "        [52.0000,  0.0000, 36.0126,  1.0000,  0.0000],\n",
            "        [52.0000,  1.0000, 45.1620,  2.0000,  0.0000],\n",
            "        [20.0000,  0.0000, 28.5714,  0.0000,  1.0000],\n",
            "        [53.0000,  0.0000, 43.7931,  1.0000,  0.0000],\n",
            "        [40.0000,  0.0000, 25.9974,  2.0000,  1.0000],\n",
            "        [41.0000,  1.0000, 28.0098,  1.0000,  0.0000],\n",
            "        [38.0000,  1.0000, 32.5670,  2.0000,  0.0000],\n",
            "        [22.0000,  1.0000, 31.4028,  0.0000,  0.0000],\n",
            "        [39.0000,  0.0000, 40.1544,  5.0000,  0.0000],\n",
            "        [26.0000,  1.0000, 36.1237,  2.0000,  0.0000],\n",
            "        [51.0000,  0.0000, 40.0140,  1.0000,  0.0000],\n",
            "        [51.0000,  1.0000, 32.4558,  1.0000,  0.0000],\n",
            "        [18.0000,  1.0000, 37.1241,  0.0000,  1.0000],\n",
            "        [25.0000,  1.0000, 30.2328,  1.0000,  0.0000],\n",
            "        [25.0000,  1.0000, 35.7903,  0.0000,  0.0000],\n",
            "        [63.0000,  0.0000, 41.1840,  1.0000,  0.0000],\n",
            "        [47.0000,  1.0000, 42.2136,  1.0000,  1.0000],\n",
            "        [54.0000,  0.0000, 37.7910,  1.0000,  0.0000],\n",
            "        [58.0000,  1.0000, 44.4600,  0.0000,  0.0000],\n",
            "        [48.0000,  0.0000, 37.7091,  1.0000,  0.0000],\n",
            "        [40.0000,  1.0000, 30.7885,  1.0000,  0.0000],\n",
            "        [45.0000,  1.0000, 32.1750,  3.0000,  0.0000],\n",
            "        [31.0000,  0.0000, 34.0470,  0.0000,  0.0000],\n",
            "        [56.0000,  1.0000, 39.3471,  0.0000,  1.0000],\n",
            "        [60.0000,  0.0000, 37.9665,  0.0000,  1.0000],\n",
            "        [19.0000,  0.0000, 33.7896,  0.0000,  1.0000],\n",
            "        [30.0000,  1.0000, 36.7380,  1.0000,  0.0000],\n",
            "        [49.0000,  1.0000, 30.2328,  2.0000,  1.0000],\n",
            "        [63.0000,  0.0000, 31.5666,  0.0000,  1.0000],\n",
            "        [24.0000,  1.0000, 36.3461,  0.0000,  1.0000],\n",
            "        [55.0000,  0.0000, 34.9011,  0.0000,  0.0000],\n",
            "        [50.0000,  1.0000, 31.1220,  0.0000,  0.0000],\n",
            "        [42.0000,  0.0000, 44.3430,  0.0000,  0.0000],\n",
            "        [49.0000,  1.0000, 37.7910,  3.0000,  0.0000],\n",
            "        [29.0000,  1.0000, 31.8240,  0.0000,  0.0000],\n",
            "        [18.0000,  0.0000, 43.6293,  1.0000,  0.0000],\n",
            "        [19.0000,  1.0000, 33.2280,  1.0000,  0.0000],\n",
            "        [19.0000,  1.0000, 35.7903,  0.0000,  0.0000],\n",
            "        [25.0000,  1.0000, 41.6813,  0.0000,  0.0000],\n",
            "        [39.0000,  1.0000, 41.3010,  2.0000,  1.0000],\n",
            "        [58.0000,  1.0000, 27.2610,  0.0000,  0.0000],\n",
            "        [46.0000,  1.0000, 32.2920,  0.0000,  0.0000],\n",
            "        [26.0000,  1.0000, 31.9000,  3.0000,  0.0000]])\n",
            "targets: tensor([[ 3219.7712],\n",
            "        [ 9064.6484],\n",
            "        [13124.2373],\n",
            "        [10723.8018],\n",
            "        [21474.1641],\n",
            "        [ 8584.5762],\n",
            "        [ 6724.5542],\n",
            "        [10356.4121],\n",
            "        [23825.9238],\n",
            "        [14756.5420],\n",
            "        [13306.3164],\n",
            "        [ 4351.6787],\n",
            "        [41938.8711],\n",
            "        [ 9705.6064],\n",
            "        [ 1784.4073],\n",
            "        [ 6910.4585],\n",
            "        [44301.0117],\n",
            "        [11810.5576],\n",
            "        [ 2350.5706],\n",
            "        [ 7332.8672],\n",
            "        [15658.5791],\n",
            "        [ 6025.8403],\n",
            "        [16049.6953],\n",
            "        [33203.4297],\n",
            "        [ 6037.0884],\n",
            "        [51327.5859],\n",
            "        [ 6519.5308],\n",
            "        [13722.8867],\n",
            "        [10695.0469],\n",
            "        [10990.1416],\n",
            "        [ 3484.2014],\n",
            "        [ 4009.5984],\n",
            "        [28246.6562],\n",
            "        [26924.1270],\n",
            "        [13303.9258],\n",
            "        [10219.1533],\n",
            "        [ 4243.5352],\n",
            "        [10847.1279],\n",
            "        [ 3193.1973],\n",
            "        [ 1377.6477],\n",
            "        [19087.9492],\n",
            "        [ 2857.5569],\n",
            "        [10588.5117],\n",
            "        [42111.0234],\n",
            "        [33183.2812],\n",
            "        [ 3052.7114],\n",
            "        [48622.9180],\n",
            "        [ 5588.1055],\n",
            "        [38311.5195],\n",
            "        [16029.0801],\n",
            "        [12080.7510],\n",
            "        [ 3016.1428],\n",
            "        [ 5313.6929],\n",
            "        [ 7951.0371],\n",
            "        [11047.5742],\n",
            "        [13235.5586],\n",
            "        [ 8387.0928],\n",
            "        [ 6577.7041],\n",
            "        [ 7876.1035],\n",
            "        [38257.5781],\n",
            "        [ 7859.3491],\n",
            "        [13356.8369],\n",
            "        [ 7563.5571],\n",
            "        [ 1923.6514],\n",
            "        [45827.7617],\n",
            "        [ 5982.6240],\n",
            "        [18841.2695],\n",
            "        [20085.1367],\n",
            "        [13851.7881],\n",
            "        [19215.8828],\n",
            "        [15834.0137],\n",
            "        [21136.1758],\n",
            "        [46322.8320],\n",
            "        [20793.8398],\n",
            "        [33069.9375],\n",
            "        [ 5941.0786],\n",
            "        [13315.8516],\n",
            "        [34782.0000],\n",
            "        [ 7921.8711],\n",
            "        [ 2480.2764],\n",
            "        [22820.5879],\n",
            "        [ 4878.6035],\n",
            "        [ 3723.9390],\n",
            "        [18789.1875],\n",
            "        [40645.2812],\n",
            "        [11877.0693],\n",
            "        [11357.7266],\n",
            "        [28738.2422],\n",
            "        [12055.6641],\n",
            "        [21388.6914],\n",
            "        [ 7544.3276],\n",
            "        [ 7101.4487],\n",
            "        [ 1831.4995],\n",
            "        [ 9456.5107],\n",
            "        [ 4265.0347],\n",
            "        [10859.9707],\n",
            "        [10953.4941],\n",
            "        [37105.9570],\n",
            "        [ 3640.7720],\n",
            "        [ 3000.1345],\n",
            "        [15922.1426],\n",
            "        [46432.2539],\n",
            "        [12663.6455],\n",
            "        [12502.5469],\n",
            "        [ 9758.2666],\n",
            "        [ 7028.3154],\n",
            "        [ 9476.8301],\n",
            "        [ 4137.4214],\n",
            "        [48313.3008],\n",
            "        [49509.8516],\n",
            "        [19523.3574],\n",
            "        [ 4025.2805],\n",
            "        [26187.9648],\n",
            "        [31845.5156],\n",
            "        [37679.4570],\n",
            "        [12415.1924],\n",
            "        [ 9288.9219],\n",
            "        [ 7121.4141],\n",
            "        [11296.4062],\n",
            "        [ 3152.7002],\n",
            "        [ 2441.3896],\n",
            "        [ 2026.7709],\n",
            "        [ 1803.5194],\n",
            "        [ 2787.8330],\n",
            "        [44114.2773],\n",
            "        [12480.0713],\n",
            "        [27063.3535],\n",
            "        [ 5127.4150]])\n"
          ]
        }
      ],
      "source": [
        "for xb, yb in train_loader:\n",
        "    print(\"inputs:\", xb)\n",
        "    print(\"targets:\", yb)\n",
        "    break"
      ]
    },
    {
      "cell_type": "markdown",
      "metadata": {
        "id": "1fG8N_JmLozr"
      },
      "source": [
        "Let's save our work by committing to Jovian."
      ]
    },
    {
      "cell_type": "code",
      "execution_count": 35,
      "metadata": {
        "colab": {
          "base_uri": "https://localhost:8080/",
          "height": 88
        },
        "id": "r0zfvM6CLozr",
        "outputId": "d12319db-5d88-407a-9d71-d9f21220cbd5"
      },
      "outputs": [
        {
          "output_type": "stream",
          "name": "stdout",
          "text": [
            "[jovian] Detected Colab notebook...\u001b[0m\n",
            "[jovian] Uploading colab notebook to Jovian...\u001b[0m\n",
            "Committed successfully! https://jovian.ai/rick101001/02-insurance-linear-regression\n"
          ]
        },
        {
          "output_type": "execute_result",
          "data": {
            "application/vnd.google.colaboratory.intrinsic+json": {
              "type": "string"
            },
            "text/plain": [
              "'https://jovian.ai/rick101001/02-insurance-linear-regression'"
            ]
          },
          "metadata": {},
          "execution_count": 35
        }
      ],
      "source": [
        "jovian.commit(project=project_name, environment=None)"
      ]
    },
    {
      "cell_type": "markdown",
      "metadata": {
        "id": "7uPoz3d4Lozr"
      },
      "source": [
        "## Step 3: Create a Linear Regression Model\n",
        "\n",
        "Our model itself is a fairly straightforward linear regression (we'll build more complex models in the next assignment). \n"
      ]
    },
    {
      "cell_type": "code",
      "execution_count": 36,
      "metadata": {
        "id": "8wpyoDLwLozr"
      },
      "outputs": [],
      "source": [
        "input_size = len(input_cols)\n",
        "output_size = len(output_cols)"
      ]
    },
    {
      "cell_type": "markdown",
      "metadata": {
        "id": "AqZ68y1uLozs"
      },
      "source": [
        "**Q9: Complete the class definition below by filling out the constructor (`__init__`), `forward`, `training_step` and `validation_step` methods.**\n",
        "\n",
        "Hint: Think carefully about picking a good loss fuction (it's not cross entropy). Maybe try 2-3 of them and see which one works best. See https://pytorch.org/docs/stable/nn.functional.html#loss-functions"
      ]
    },
    {
      "cell_type": "code",
      "execution_count": 43,
      "metadata": {
        "id": "P37f_z7MLozs"
      },
      "outputs": [],
      "source": [
        "class InsuranceModel(nn.Module):\n",
        "    def __init__(self):\n",
        "        super().__init__()\n",
        "        self.linear = nn.Linear(input_size, output_size)                 \n",
        "        \n",
        "    def forward(self, xb):\n",
        "        out = self.linear(xb)                        \n",
        "        return out\n",
        "    \n",
        "    def training_step(self, batch):\n",
        "        inputs, targets = batch \n",
        "        # Generate predictions\n",
        "        out = self(inputs)          \n",
        "        # Calcuate loss\n",
        "        loss = F.mse_loss(out, targets)                          \n",
        "        return loss\n",
        "    \n",
        "    def validation_step(self, batch):\n",
        "        inputs, targets = batch\n",
        "        # Generate predictions\n",
        "        out = self(inputs)\n",
        "        # Calculate loss\n",
        "        loss = F.mse_loss(out, targets)                               \n",
        "        return {'val_loss': loss.detach()}\n",
        "        \n",
        "    def validation_epoch_end(self, outputs):\n",
        "        batch_losses = [x['val_loss'] for x in outputs]\n",
        "        epoch_loss = torch.stack(batch_losses).mean()   # Combine losses\n",
        "        return {'val_loss': epoch_loss.item()}\n",
        "    \n",
        "    def epoch_end(self, epoch, result, num_epochs):\n",
        "        # Print result every 20th epoch\n",
        "        if (epoch+1) % 20 == 0 or epoch == num_epochs-1:\n",
        "            print(\"Epoch [{}], val_loss: {:.4f}\".format(epoch+1, result['val_loss']))"
      ]
    },
    {
      "cell_type": "markdown",
      "metadata": {
        "id": "XvnrG6fiLozt"
      },
      "source": [
        "Let us create a model using the `InsuranceModel` class. You may need to come back later and re-run the next cell to reinitialize the model, in case the loss becomes `nan` or `infinity`."
      ]
    },
    {
      "cell_type": "code",
      "execution_count": 53,
      "metadata": {
        "id": "wnEmJgLeLozu"
      },
      "outputs": [],
      "source": [
        "model = InsuranceModel()"
      ]
    },
    {
      "cell_type": "markdown",
      "metadata": {
        "id": "sQY9lF-sLozu"
      },
      "source": [
        "Let's check out the weights and biases of the model using `model.parameters`."
      ]
    },
    {
      "cell_type": "code",
      "execution_count": 54,
      "metadata": {
        "colab": {
          "base_uri": "https://localhost:8080/"
        },
        "id": "2A9QLdPELozu",
        "outputId": "bc877a91-3dc0-471d-b6a6-0b9e66109b34"
      },
      "outputs": [
        {
          "output_type": "execute_result",
          "data": {
            "text/plain": [
              "[Parameter containing:\n",
              " tensor([[ 0.3882, -0.3926,  0.1646, -0.1527,  0.1018]], requires_grad=True),\n",
              " Parameter containing:\n",
              " tensor([-0.2036], requires_grad=True)]"
            ]
          },
          "metadata": {},
          "execution_count": 54
        }
      ],
      "source": [
        "list(model.parameters())"
      ]
    },
    {
      "cell_type": "markdown",
      "metadata": {
        "id": "o1IDlCh-Lozu"
      },
      "source": [
        "One final commit before we train the model."
      ]
    },
    {
      "cell_type": "code",
      "execution_count": 55,
      "metadata": {
        "colab": {
          "base_uri": "https://localhost:8080/",
          "height": 88
        },
        "id": "DnWsswK_Lozu",
        "outputId": "75f56434-fb02-4071-bccb-927789f8fbae"
      },
      "outputs": [
        {
          "output_type": "stream",
          "name": "stdout",
          "text": [
            "[jovian] Detected Colab notebook...\u001b[0m\n",
            "[jovian] Uploading colab notebook to Jovian...\u001b[0m\n",
            "Committed successfully! https://jovian.ai/rick101001/02-insurance-linear-regression\n"
          ]
        },
        {
          "output_type": "execute_result",
          "data": {
            "application/vnd.google.colaboratory.intrinsic+json": {
              "type": "string"
            },
            "text/plain": [
              "'https://jovian.ai/rick101001/02-insurance-linear-regression'"
            ]
          },
          "metadata": {},
          "execution_count": 55
        }
      ],
      "source": [
        "jovian.commit(project=project_name, environment=None)"
      ]
    },
    {
      "cell_type": "markdown",
      "metadata": {
        "id": "StMf9y6xLozv"
      },
      "source": [
        "## Step 4: Train the model to fit the data\n",
        "\n",
        "To train our model, we'll use the same `fit` function explained in the lecture. That's the benefit of defining a generic training loop - you can use it for any problem."
      ]
    },
    {
      "cell_type": "code",
      "execution_count": 56,
      "metadata": {
        "id": "vFDN8YYkLozv"
      },
      "outputs": [],
      "source": [
        "def evaluate(model, val_loader):\n",
        "    outputs = [model.validation_step(batch) for batch in val_loader]\n",
        "    return model.validation_epoch_end(outputs)\n",
        "\n",
        "def fit(epochs, lr, model, train_loader, val_loader, opt_func=torch.optim.SGD):\n",
        "    history = []\n",
        "    optimizer = opt_func(model.parameters(), lr)\n",
        "    for epoch in range(epochs):\n",
        "        # Training Phase \n",
        "        for batch in train_loader:\n",
        "            loss = model.training_step(batch)\n",
        "            loss.backward()\n",
        "            optimizer.step()\n",
        "            optimizer.zero_grad()\n",
        "        # Validation phase\n",
        "        result = evaluate(model, val_loader)\n",
        "        model.epoch_end(epoch, result, epochs)\n",
        "        history.append(result)\n",
        "    return history"
      ]
    },
    {
      "cell_type": "markdown",
      "metadata": {
        "id": "O3aK_PTgLozv"
      },
      "source": [
        "**Q10: Use the `evaluate` function to calculate the loss on the validation set before training.**"
      ]
    },
    {
      "cell_type": "code",
      "execution_count": 57,
      "metadata": {
        "colab": {
          "base_uri": "https://localhost:8080/"
        },
        "id": "Jgozg_CCLozv",
        "outputId": "b4df48c8-e2f3-4648-9eb9-3b9c3e803e11"
      },
      "outputs": [
        {
          "output_type": "stream",
          "name": "stdout",
          "text": [
            "{'val_loss': 310794080.0}\n"
          ]
        }
      ],
      "source": [
        "result = evaluate(model, val_loader) # Use the the evaluate function\n",
        "print(result)"
      ]
    },
    {
      "cell_type": "markdown",
      "metadata": {
        "id": "RJ8dTy4HLozv"
      },
      "source": [
        "\n",
        "We are now ready to train the model. You may need to run the training loop many times, for different number of epochs and with different learning rates, to get a good result. Also, if your loss becomes too large (or `nan`), you may have to re-initialize the model by running the cell `model = InsuranceModel()`. Experiment with this for a while, and try to get to as low a loss as possible."
      ]
    },
    {
      "cell_type": "markdown",
      "metadata": {
        "id": "YXsIXr6jLozw"
      },
      "source": [
        "**Q11: Train the model 4-5 times with different learning rates & for different number of epochs.**\n",
        "\n",
        "Hint: Vary learning rates by orders of 10 (e.g. `1e-2`, `1e-3`, `1e-4`, `1e-5`, `1e-6`) to figure out what works."
      ]
    },
    {
      "cell_type": "code",
      "execution_count": 58,
      "metadata": {
        "colab": {
          "base_uri": "https://localhost:8080/"
        },
        "id": "lBPh5gZFLozw",
        "outputId": "dd6328f9-d791-448d-8c88-543e1f47d98b"
      },
      "outputs": [
        {
          "output_type": "stream",
          "name": "stdout",
          "text": [
            "Epoch [20], val_loss: 119774416.0000\n",
            "Epoch [40], val_loss: 119649440.0000\n",
            "Epoch [50], val_loss: 119558992.0000\n"
          ]
        }
      ],
      "source": [
        "epochs = 50\n",
        "lr = 1e-5\n",
        "history1 = fit(epochs, lr, model, train_loader, val_loader)"
      ]
    },
    {
      "cell_type": "code",
      "execution_count": 59,
      "metadata": {
        "colab": {
          "base_uri": "https://localhost:8080/"
        },
        "id": "eQ-4h29dLozw",
        "outputId": "1bbb8725-1df9-45cc-ac3c-b4b5d067e1ed"
      },
      "outputs": [
        {
          "output_type": "stream",
          "name": "stdout",
          "text": [
            "Epoch [20], val_loss: 116523008.0000\n",
            "Epoch [40], val_loss: 116061472.0000\n",
            "Epoch [50], val_loss: 119132944.0000\n"
          ]
        }
      ],
      "source": [
        "epochs = 50\n",
        "lr = 1e-4\n",
        "history2 = fit(epochs, lr, model, train_loader, val_loader)"
      ]
    },
    {
      "cell_type": "code",
      "execution_count": 60,
      "metadata": {
        "colab": {
          "base_uri": "https://localhost:8080/"
        },
        "id": "5DnINef4Lozw",
        "outputId": "6998cea2-cf5c-414b-9863-27559f0cb952"
      },
      "outputs": [
        {
          "output_type": "stream",
          "name": "stdout",
          "text": [
            "Epoch [20], val_loss: 117041872.0000\n",
            "Epoch [40], val_loss: 116876696.0000\n",
            "Epoch [60], val_loss: 116897680.0000\n",
            "Epoch [80], val_loss: 116626432.0000\n",
            "Epoch [100], val_loss: 116771144.0000\n"
          ]
        }
      ],
      "source": [
        "epochs = 100\n",
        "lr = 1e-5\n",
        "history3 = fit(epochs, lr, model, train_loader, val_loader)"
      ]
    },
    {
      "cell_type": "code",
      "execution_count": 61,
      "metadata": {
        "colab": {
          "base_uri": "https://localhost:8080/"
        },
        "id": "ljasEohDLozw",
        "outputId": "6ad0a73c-b5a4-4e54-b80a-a369f39442c8"
      },
      "outputs": [
        {
          "output_type": "stream",
          "name": "stdout",
          "text": [
            "Epoch [20], val_loss: 116515792.0000\n",
            "Epoch [40], val_loss: 116256144.0000\n",
            "Epoch [50], val_loss: 116433584.0000\n"
          ]
        }
      ],
      "source": [
        "epochs = 50\n",
        "lr = 1e-5\n",
        "history4 = fit(epochs, lr, model, train_loader, val_loader)"
      ]
    },
    {
      "cell_type": "code",
      "execution_count": 63,
      "metadata": {
        "colab": {
          "base_uri": "https://localhost:8080/"
        },
        "id": "sPtryNUZLozw",
        "outputId": "0e15a044-bcf6-4f8e-bc54-76e228375c66"
      },
      "outputs": [
        {
          "output_type": "stream",
          "name": "stdout",
          "text": [
            "Epoch [20], val_loss: 116438464.0000\n",
            "Epoch [40], val_loss: 116171328.0000\n",
            "Epoch [50], val_loss: 116201176.0000\n"
          ]
        }
      ],
      "source": [
        "epochs = 50\n",
        "lr = 1e-5\n",
        "history5 = fit(epochs, lr, model, train_loader, val_loader)"
      ]
    },
    {
      "cell_type": "code",
      "source": [
        "epochs = 50\n",
        "lr = 1e-6\n",
        "history6 = fit(epochs, lr, model, train_loader, val_loader)"
      ],
      "metadata": {
        "colab": {
          "base_uri": "https://localhost:8080/"
        },
        "id": "RC-nwdyOXMRB",
        "outputId": "8e363527-27ff-4360-a5c1-81a09ac9fe38"
      },
      "execution_count": 75,
      "outputs": [
        {
          "output_type": "stream",
          "name": "stdout",
          "text": [
            "Epoch [20], val_loss: 116161664.0000\n",
            "Epoch [40], val_loss: 116145344.0000\n",
            "Epoch [50], val_loss: 116143280.0000\n"
          ]
        }
      ]
    },
    {
      "cell_type": "markdown",
      "metadata": {
        "id": "XRQPVMjWLozx"
      },
      "source": [
        "**Q12: What is the final validation loss of your model?**"
      ]
    },
    {
      "cell_type": "code",
      "execution_count": 64,
      "metadata": {
        "id": "VAdYjXgWLozx"
      },
      "outputs": [],
      "source": [
        "val_loss = 116201176.0000"
      ]
    },
    {
      "cell_type": "markdown",
      "metadata": {
        "id": "CoFo6jMvLozx"
      },
      "source": [
        "Let's log the final validation loss to Jovian and commit the notebook"
      ]
    },
    {
      "cell_type": "code",
      "execution_count": 65,
      "metadata": {
        "colab": {
          "base_uri": "https://localhost:8080/"
        },
        "id": "7-L3vPOELozx",
        "outputId": "94b44539-af4c-49e6-f580-526086795c9b"
      },
      "outputs": [
        {
          "output_type": "stream",
          "name": "stdout",
          "text": [
            "[jovian] Metrics logged.\u001b[0m\n"
          ]
        }
      ],
      "source": [
        "jovian.log_metrics(val_loss=val_loss)"
      ]
    },
    {
      "cell_type": "code",
      "execution_count": 66,
      "metadata": {
        "colab": {
          "base_uri": "https://localhost:8080/",
          "height": 105
        },
        "id": "H49f6CK1Lozx",
        "outputId": "95acb673-5105-4b21-dd5a-6e6f93b4d0db"
      },
      "outputs": [
        {
          "output_type": "stream",
          "name": "stdout",
          "text": [
            "[jovian] Detected Colab notebook...\u001b[0m\n",
            "[jovian] Uploading colab notebook to Jovian...\u001b[0m\n",
            "[jovian] Attaching records (metrics, hyperparameters, dataset etc.)\u001b[0m\n",
            "Committed successfully! https://jovian.ai/rick101001/02-insurance-linear-regression\n"
          ]
        },
        {
          "output_type": "execute_result",
          "data": {
            "application/vnd.google.colaboratory.intrinsic+json": {
              "type": "string"
            },
            "text/plain": [
              "'https://jovian.ai/rick101001/02-insurance-linear-regression'"
            ]
          },
          "metadata": {},
          "execution_count": 66
        }
      ],
      "source": [
        "jovian.commit(project=project_name, environment=None)"
      ]
    },
    {
      "cell_type": "markdown",
      "metadata": {
        "id": "k6XlRep3Lozy"
      },
      "source": [
        "Now scroll back up, re-initialize the model, and try different set of values for batch size, number of epochs, learning rate etc. Commit each experiment and use the \"Compare\" and \"View Diff\" options on Jovian to compare the different results."
      ]
    },
    {
      "cell_type": "markdown",
      "metadata": {
        "id": "6enAIaIGLozy"
      },
      "source": [
        "## Step 5: Make predictions using the trained model\n",
        "\n",
        "**Q13: Complete the following function definition to make predictions on a single input**"
      ]
    },
    {
      "cell_type": "code",
      "execution_count": 71,
      "metadata": {
        "id": "IhAb4fPdLozy"
      },
      "outputs": [],
      "source": [
        "def predict_single(input, target, model):\n",
        "    inputs = input.unsqueeze(0)\n",
        "    predictions = model(inputs)           \n",
        "    prediction = predictions[0].detach()\n",
        "    print(\"Input:\", input)\n",
        "    print(\"Target:\", target.item())\n",
        "    print(\"Prediction:\", prediction.item())"
      ]
    },
    {
      "cell_type": "code",
      "execution_count": 72,
      "metadata": {
        "colab": {
          "base_uri": "https://localhost:8080/"
        },
        "id": "T4v_bCNQLozy",
        "outputId": "6355187a-df67-4c97-9b95-94a47e4700ab"
      },
      "outputs": [
        {
          "output_type": "stream",
          "name": "stdout",
          "text": [
            "Input: tensor([27.0000,  0.0000, 40.7160,  1.0000,  0.0000])\n",
            "Target: 3935.798828125\n",
            "Prediction: 13362.486328125\n"
          ]
        }
      ],
      "source": [
        "input, target = val_ds[0]\n",
        "predict_single(input, target, model)"
      ]
    },
    {
      "cell_type": "code",
      "execution_count": 73,
      "metadata": {
        "colab": {
          "base_uri": "https://localhost:8080/"
        },
        "id": "ylRJMrUtLozy",
        "outputId": "773cb749-9e00-470f-95b6-24750873d722"
      },
      "outputs": [
        {
          "output_type": "stream",
          "name": "stdout",
          "text": [
            "Input: tensor([21.0000,  0.0000, 39.3471,  2.0000,  0.0000])\n",
            "Target: 3937.8115234375\n",
            "Prediction: 11834.7451171875\n"
          ]
        }
      ],
      "source": [
        "input, target = val_ds[10]\n",
        "predict_single(input, target, model)"
      ]
    },
    {
      "cell_type": "code",
      "execution_count": 74,
      "metadata": {
        "colab": {
          "base_uri": "https://localhost:8080/"
        },
        "id": "hkkfGbWGLozy",
        "outputId": "37d0a358-4052-4572-ba82-2c3c12fcbf1c"
      },
      "outputs": [
        {
          "output_type": "stream",
          "name": "stdout",
          "text": [
            "Input: tensor([42.0000,  1.0000, 35.1000,  0.0000,  1.0000])\n",
            "Target: 24358.435546875\n",
            "Prediction: 16164.5126953125\n"
          ]
        }
      ],
      "source": [
        "input, target = val_ds[23]\n",
        "predict_single(input, target, model)"
      ]
    },
    {
      "cell_type": "code",
      "execution_count": 76,
      "metadata": {
        "colab": {
          "base_uri": "https://localhost:8080/",
          "height": 175
        },
        "id": "WN8nV-IbLozz",
        "outputId": "78c68ad6-c686-42b4-b616-9a43a8cb82e3"
      },
      "outputs": [
        {
          "output_type": "stream",
          "name": "stdout",
          "text": [
            "[jovian] Detected Colab notebook...\u001b[0m\n",
            "[jovian] Uploading colab notebook to Jovian...\u001b[0m\n",
            "[jovian] Attaching records (metrics, hyperparameters, dataset etc.)\u001b[0m\n",
            "Committed successfully! https://jovian.ai/rick101001/02-insurance-linear-regression\n",
            "[jovian] Detected Colab notebook...\u001b[0m\n",
            "[jovian] Uploading colab notebook to Jovian...\u001b[0m\n",
            "[jovian] Attaching records (metrics, hyperparameters, dataset etc.)\u001b[0m\n",
            "Committed successfully! https://jovian.ai/rick101001/02-insurance-linear-regression\n"
          ]
        },
        {
          "output_type": "execute_result",
          "data": {
            "application/vnd.google.colaboratory.intrinsic+json": {
              "type": "string"
            },
            "text/plain": [
              "'https://jovian.ai/rick101001/02-insurance-linear-regression'"
            ]
          },
          "metadata": {},
          "execution_count": 76
        }
      ],
      "source": [
        "jovian.commit(project=project_name, environment=None)\n",
        "jovian.commit(project=project_name, environment=None) # try again, kaggle fails sometimes"
      ]
    }
  ],
  "metadata": {
    "kernelspec": {
      "display_name": "Python 3 (ipykernel)",
      "language": "python",
      "name": "python3"
    },
    "language_info": {
      "codemirror_mode": {
        "name": "ipython",
        "version": 3
      },
      "file_extension": ".py",
      "mimetype": "text/x-python",
      "name": "python",
      "nbconvert_exporter": "python",
      "pygments_lexer": "ipython3",
      "version": "3.9.6"
    },
    "colab": {
      "name": "02-insurance-linear.ipynb",
      "provenance": []
    },
    "widgets": {
      "application/vnd.jupyter.widget-state+json": {
        "1aea4f80fbe44500980e0e4d9e280031": {
          "model_module": "@jupyter-widgets/controls",
          "model_name": "HBoxModel",
          "model_module_version": "1.5.0",
          "state": {
            "_view_name": "HBoxView",
            "_dom_classes": [],
            "_model_name": "HBoxModel",
            "_view_module": "@jupyter-widgets/controls",
            "_model_module_version": "1.5.0",
            "_view_count": null,
            "_view_module_version": "1.5.0",
            "box_style": "",
            "layout": "IPY_MODEL_17a9b9977d5b4dd8bcba52a67551e5dc",
            "_model_module": "@jupyter-widgets/controls",
            "children": [
              "IPY_MODEL_f27885e387a141deaf31e47cd9ee1f46",
              "IPY_MODEL_08ddaedf4a314a4e8309bdc6db97e13d",
              "IPY_MODEL_de72db18cbb14fd2bacecbfd3911c25b"
            ]
          }
        },
        "17a9b9977d5b4dd8bcba52a67551e5dc": {
          "model_module": "@jupyter-widgets/base",
          "model_name": "LayoutModel",
          "model_module_version": "1.2.0",
          "state": {
            "_view_name": "LayoutView",
            "grid_template_rows": null,
            "right": null,
            "justify_content": null,
            "_view_module": "@jupyter-widgets/base",
            "overflow": null,
            "_model_module_version": "1.2.0",
            "_view_count": null,
            "flex_flow": null,
            "width": null,
            "min_width": null,
            "border": null,
            "align_items": null,
            "bottom": null,
            "_model_module": "@jupyter-widgets/base",
            "top": null,
            "grid_column": null,
            "overflow_y": null,
            "overflow_x": null,
            "grid_auto_flow": null,
            "grid_area": null,
            "grid_template_columns": null,
            "flex": null,
            "_model_name": "LayoutModel",
            "justify_items": null,
            "grid_row": null,
            "max_height": null,
            "align_content": null,
            "visibility": null,
            "align_self": null,
            "height": null,
            "min_height": null,
            "padding": null,
            "grid_auto_rows": null,
            "grid_gap": null,
            "max_width": null,
            "order": null,
            "_view_module_version": "1.2.0",
            "grid_template_areas": null,
            "object_position": null,
            "object_fit": null,
            "grid_auto_columns": null,
            "margin": null,
            "display": null,
            "left": null
          }
        },
        "f27885e387a141deaf31e47cd9ee1f46": {
          "model_module": "@jupyter-widgets/controls",
          "model_name": "HTMLModel",
          "model_module_version": "1.5.0",
          "state": {
            "_view_name": "HTMLView",
            "style": "IPY_MODEL_84a580f83e944fe8907f8fe8d2cc01ea",
            "_dom_classes": [],
            "description": "",
            "_model_name": "HTMLModel",
            "placeholder": "​",
            "_view_module": "@jupyter-widgets/controls",
            "_model_module_version": "1.5.0",
            "value": "",
            "_view_count": null,
            "_view_module_version": "1.5.0",
            "description_tooltip": null,
            "_model_module": "@jupyter-widgets/controls",
            "layout": "IPY_MODEL_c7b0b79f1b1f4c9f86c1bc010ab11dbd"
          }
        },
        "08ddaedf4a314a4e8309bdc6db97e13d": {
          "model_module": "@jupyter-widgets/controls",
          "model_name": "FloatProgressModel",
          "model_module_version": "1.5.0",
          "state": {
            "_view_name": "ProgressView",
            "style": "IPY_MODEL_8281a92caaf7421a9e26113ac9a1564f",
            "_dom_classes": [],
            "description": "",
            "_model_name": "FloatProgressModel",
            "bar_style": "success",
            "max": 54288,
            "_view_module": "@jupyter-widgets/controls",
            "_model_module_version": "1.5.0",
            "value": 54288,
            "_view_count": null,
            "_view_module_version": "1.5.0",
            "orientation": "horizontal",
            "min": 0,
            "description_tooltip": null,
            "_model_module": "@jupyter-widgets/controls",
            "layout": "IPY_MODEL_789520f6e8d047d7833519ac2c08ff1f"
          }
        },
        "de72db18cbb14fd2bacecbfd3911c25b": {
          "model_module": "@jupyter-widgets/controls",
          "model_name": "HTMLModel",
          "model_module_version": "1.5.0",
          "state": {
            "_view_name": "HTMLView",
            "style": "IPY_MODEL_144e3213b45a4acd81fea0e88135c06d",
            "_dom_classes": [],
            "description": "",
            "_model_name": "HTMLModel",
            "placeholder": "​",
            "_view_module": "@jupyter-widgets/controls",
            "_model_module_version": "1.5.0",
            "value": " 55296/? [00:00&lt;00:00, 1171555.89it/s]",
            "_view_count": null,
            "_view_module_version": "1.5.0",
            "description_tooltip": null,
            "_model_module": "@jupyter-widgets/controls",
            "layout": "IPY_MODEL_e749d7f7108c42429e7747a9012e5074"
          }
        },
        "84a580f83e944fe8907f8fe8d2cc01ea": {
          "model_module": "@jupyter-widgets/controls",
          "model_name": "DescriptionStyleModel",
          "model_module_version": "1.5.0",
          "state": {
            "_view_name": "StyleView",
            "_model_name": "DescriptionStyleModel",
            "description_width": "",
            "_view_module": "@jupyter-widgets/base",
            "_model_module_version": "1.5.0",
            "_view_count": null,
            "_view_module_version": "1.2.0",
            "_model_module": "@jupyter-widgets/controls"
          }
        },
        "c7b0b79f1b1f4c9f86c1bc010ab11dbd": {
          "model_module": "@jupyter-widgets/base",
          "model_name": "LayoutModel",
          "model_module_version": "1.2.0",
          "state": {
            "_view_name": "LayoutView",
            "grid_template_rows": null,
            "right": null,
            "justify_content": null,
            "_view_module": "@jupyter-widgets/base",
            "overflow": null,
            "_model_module_version": "1.2.0",
            "_view_count": null,
            "flex_flow": null,
            "width": null,
            "min_width": null,
            "border": null,
            "align_items": null,
            "bottom": null,
            "_model_module": "@jupyter-widgets/base",
            "top": null,
            "grid_column": null,
            "overflow_y": null,
            "overflow_x": null,
            "grid_auto_flow": null,
            "grid_area": null,
            "grid_template_columns": null,
            "flex": null,
            "_model_name": "LayoutModel",
            "justify_items": null,
            "grid_row": null,
            "max_height": null,
            "align_content": null,
            "visibility": null,
            "align_self": null,
            "height": null,
            "min_height": null,
            "padding": null,
            "grid_auto_rows": null,
            "grid_gap": null,
            "max_width": null,
            "order": null,
            "_view_module_version": "1.2.0",
            "grid_template_areas": null,
            "object_position": null,
            "object_fit": null,
            "grid_auto_columns": null,
            "margin": null,
            "display": null,
            "left": null
          }
        },
        "8281a92caaf7421a9e26113ac9a1564f": {
          "model_module": "@jupyter-widgets/controls",
          "model_name": "ProgressStyleModel",
          "model_module_version": "1.5.0",
          "state": {
            "_view_name": "StyleView",
            "_model_name": "ProgressStyleModel",
            "description_width": "",
            "_view_module": "@jupyter-widgets/base",
            "_model_module_version": "1.5.0",
            "_view_count": null,
            "_view_module_version": "1.2.0",
            "bar_color": null,
            "_model_module": "@jupyter-widgets/controls"
          }
        },
        "789520f6e8d047d7833519ac2c08ff1f": {
          "model_module": "@jupyter-widgets/base",
          "model_name": "LayoutModel",
          "model_module_version": "1.2.0",
          "state": {
            "_view_name": "LayoutView",
            "grid_template_rows": null,
            "right": null,
            "justify_content": null,
            "_view_module": "@jupyter-widgets/base",
            "overflow": null,
            "_model_module_version": "1.2.0",
            "_view_count": null,
            "flex_flow": null,
            "width": null,
            "min_width": null,
            "border": null,
            "align_items": null,
            "bottom": null,
            "_model_module": "@jupyter-widgets/base",
            "top": null,
            "grid_column": null,
            "overflow_y": null,
            "overflow_x": null,
            "grid_auto_flow": null,
            "grid_area": null,
            "grid_template_columns": null,
            "flex": null,
            "_model_name": "LayoutModel",
            "justify_items": null,
            "grid_row": null,
            "max_height": null,
            "align_content": null,
            "visibility": null,
            "align_self": null,
            "height": null,
            "min_height": null,
            "padding": null,
            "grid_auto_rows": null,
            "grid_gap": null,
            "max_width": null,
            "order": null,
            "_view_module_version": "1.2.0",
            "grid_template_areas": null,
            "object_position": null,
            "object_fit": null,
            "grid_auto_columns": null,
            "margin": null,
            "display": null,
            "left": null
          }
        },
        "144e3213b45a4acd81fea0e88135c06d": {
          "model_module": "@jupyter-widgets/controls",
          "model_name": "DescriptionStyleModel",
          "model_module_version": "1.5.0",
          "state": {
            "_view_name": "StyleView",
            "_model_name": "DescriptionStyleModel",
            "description_width": "",
            "_view_module": "@jupyter-widgets/base",
            "_model_module_version": "1.5.0",
            "_view_count": null,
            "_view_module_version": "1.2.0",
            "_model_module": "@jupyter-widgets/controls"
          }
        },
        "e749d7f7108c42429e7747a9012e5074": {
          "model_module": "@jupyter-widgets/base",
          "model_name": "LayoutModel",
          "model_module_version": "1.2.0",
          "state": {
            "_view_name": "LayoutView",
            "grid_template_rows": null,
            "right": null,
            "justify_content": null,
            "_view_module": "@jupyter-widgets/base",
            "overflow": null,
            "_model_module_version": "1.2.0",
            "_view_count": null,
            "flex_flow": null,
            "width": null,
            "min_width": null,
            "border": null,
            "align_items": null,
            "bottom": null,
            "_model_module": "@jupyter-widgets/base",
            "top": null,
            "grid_column": null,
            "overflow_y": null,
            "overflow_x": null,
            "grid_auto_flow": null,
            "grid_area": null,
            "grid_template_columns": null,
            "flex": null,
            "_model_name": "LayoutModel",
            "justify_items": null,
            "grid_row": null,
            "max_height": null,
            "align_content": null,
            "visibility": null,
            "align_self": null,
            "height": null,
            "min_height": null,
            "padding": null,
            "grid_auto_rows": null,
            "grid_gap": null,
            "max_width": null,
            "order": null,
            "_view_module_version": "1.2.0",
            "grid_template_areas": null,
            "object_position": null,
            "object_fit": null,
            "grid_auto_columns": null,
            "margin": null,
            "display": null,
            "left": null
          }
        }
      }
    }
  },
  "nbformat": 4,
  "nbformat_minor": 0
}